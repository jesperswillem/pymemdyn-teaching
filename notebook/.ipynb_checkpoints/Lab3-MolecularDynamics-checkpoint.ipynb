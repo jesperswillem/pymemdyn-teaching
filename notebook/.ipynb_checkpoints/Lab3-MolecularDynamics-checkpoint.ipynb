{
 "cells": [
  {
   "cell_type": "markdown",
   "id": "3790f1b6-5fe1-406b-87eb-32475c89e33a",
   "metadata": {},
   "source": [
    "## Lab3 Molecular Dynamics\n",
    "\n",
    "In this lab, we will prepare and run the necessary steps to perform MD simulations of the cannabinoid 2 receptor. We use the crystal structure 6kpf (https://www.rcsb.org/structure/6KPF) as a starting point.\n",
    "\n",
    "The lab includes a series of steps to interact with the GROMACS program, as well as with a few python script included in the python package PyMemDyn. Normally, these steps are all run at once, but here we try to run them individually to better understand which steps are needed to succesfully run MD on a membrane protein.\n",
    "\n",
    "I reccomend to read up on pymemdyn and related webserver here:\n",
    "https://portlandpress.com/biochemsoctrans/article-abstract/41/1/205/68208/Characterization-of-the-dynamic-events-of-GPCRs-by\n",
    "and\n",
    "https://academic.oup.com/nar/article/44/W1/W455/2499371?login=true\n",
    "\n",
    "We have pregenerated the ligand parameters using LigParGen:\n",
    "http://zarbi.chem.yale.edu/ligpargen/\n",
    "\n",
    "Below, you will find the relevant code blocks that you can execute by using the play button on top, or by typing shft+enter.\n",
    "\n",
    "If you want to know more about what the code is doing, please ask one of the teachers!"
   ]
  },
  {
   "cell_type": "code",
   "execution_count": 1,
   "id": "59348d05-aaf7-4c93-b0df-22b5ad8e50c6",
   "metadata": {},
   "outputs": [],
   "source": [
    "#!/usr/bin/env python3.7\n",
    "# Import python native functions\n",
    "import argparse\n",
    "import os\n",
    "import shutil\n",
    "import sys\n",
    "\n",
    "# Add PyMemDyn modules\n",
    "sys.path.insert(0, '../')\n",
    "\n",
    "import complex\n",
    "import gromacs\n",
    "import membrane\n",
    "import protein\n",
    "import pymemqueue\n",
    "import settings\n",
    "import recipes\n",
    "from pymemdyn import Run"
   ]
  },
  {
   "cell_type": "code",
   "execution_count": 5,
   "id": "af0c1d86-a71e-4278-b240-0999eb48638e",
   "metadata": {},
   "outputs": [],
   "source": [
    "!cp ../data/protein.pdb .\n",
    "!cp ../data/E3R.pdb .\n",
    "!cp ../data/E3R.itp .\n",
    "!cp ../data/E3R.ff ."
   ]
  },
  {
   "cell_type": "code",
   "execution_count": 2,
   "id": "2bc0d313-f553-4d4f-82a0-39bf722fa4d1",
   "metadata": {},
   "outputs": [
    {
     "data": {
      "text/plain": [
       "True"
      ]
     },
     "execution_count": 2,
     "metadata": {},
     "output_type": "execute_result"
    }
   ],
   "source": [
    "# First, we instantiate the run class of pymemdyn, this top level object takes run time variables\n",
    "# and stores them in an object so we can use them in the next steps\n",
    "os.chdir('rundir')\n",
    "run = Run(own_dir = os.getcwd(),\n",
    "          repo_dir = settings.TEMPLATES_DIR,\n",
    "          pdb = 'protein.pdb',\n",
    "          ligand = 'E3R',\n",
    "          alosteric = None,\n",
    "          waters = None,\n",
    "          ions = None,\n",
    "          cho = None,\n",
    "          ligpargen = None,\n",
    "          library = None,\n",
    "          restraint = 'bw',\n",
    "          queue = \"\",\n",
    "          debug = True\n",
    ")"
   ]
  },
  {
   "cell_type": "markdown",
   "id": "915b4738-8642-433c-aafd-bb18695ce5dc",
   "metadata": {
    "tags": []
   },
   "source": [
    "This command returns a list of each of the steps run by the program pymemdyn.\n",
    "We will use these keywords in the next command block to run the individual steps\n",
    "in the program.\n",
    "Note that pymemdyn can also run everything in one go (this was the intention of the \n",
    "program), but for teaching purposes it makes more sense to carefully look at each individual step."
   ]
  },
  {
   "cell_type": "code",
   "execution_count": 6,
   "id": "059c6c54-9809-441f-9d0c-142d3b4fa955",
   "metadata": {},
   "outputs": [
    {
     "name": "stdout",
     "output_type": "stream",
     "text": [
      "pdb2gmx\n",
      "set_itp\n",
      "concat\n",
      "editconf\n",
      "set_protein_size\n",
      "editconf2\n",
      "set_protein_size2\n",
      "set_popc\n",
      "editconf3\n",
      "make_ndx_lig\n",
      "genrestr_lig\n",
      "editconf4\n",
      "make_topol\n",
      "editconf5\n",
      "solvate\n",
      "set_water\n",
      "editconf6\n",
      "editconf7\n",
      "solvate2\n",
      "count_lipids\n",
      "make_topol2\n",
      "make_topol_lipids\n",
      "make_ffoplsaanb\n",
      "set_grompp\n",
      "set_chains\n",
      "make_ndx\n",
      "grompp\n",
      "trjconv\n",
      "get_charge\n",
      "genion\n",
      "grompp2\n",
      "trjconv2\n",
      "grompp3\n",
      "trjconv3\n",
      "clean_pdb\n"
     ]
    }
   ],
   "source": [
    "run.moldyn_notebook_info()"
   ]
  },
  {
   "cell_type": "markdown",
   "id": "650e5a69-9476-42de-8624-dffdddf00c91",
   "metadata": {},
   "source": [
    "You can use the code block below to run each of the commands individually, there will be a short description of each of the\n",
    "steps printed out. The first step (pdb2gmx) has already been filled in so you know what input to use. Some commands are running via GROMACS (indicated in the header) other commands are actual python\n",
    "scripts part of the pymemdyn package.\n",
    "\n",
    "Sometimes the help function mentions a filetype (.top or .itp for instance) if you don't know what these files are\n",
    "you can find more information here:\n",
    "https://manual.gromacs.org/documentation/5.1.1/user-guide/file-formats.html"
   ]
  },
  {
   "cell_type": "code",
   "execution_count": 7,
   "id": "560f0a69-d87e-41d7-a787-1ed7be794d5f",
   "metadata": {},
   "outputs": [
    {
     "name": "stdout",
     "output_type": "stream",
     "text": [
      "LigandInit : pdb2gmx.\n",
      "Running the following command\n",
      "{'gromacs': 'pdb2gmx', 'options': {'src': 'protein-his.pdb', 'tgt': 'proteinopls.pdb', 'top': 'protein.top'}}\n",
      "\n",
      "========================INFO============================\n",
      "\n",
      "GROMACS command\n",
      "Convert the input pdb file to a gromacs object\n",
      "\n",
      "========================INFO END========================\n",
      "\n",
      "\n",
      "Using the Oplsaa force field in directory oplsaa.ff\n",
      "\n",
      "Reading /home/willem/pymemdyn-teaching/notebook/rundir/protein-his.pdb...\n",
      "Read 2326 atoms\n",
      "Analyzing pdb file\n",
      "Splitting chemical chains based on TER records or chain id changing.\n",
      "There are 1 chains and 0 blocks of water and 299 residues with 2326 atoms\n",
      "\n",
      "  chain  #res #atoms\n",
      "  1 ' '   299   2326  \n",
      "\n",
      "Reading residue database... (oplsaa)\n",
      "Processing chain 1 (2326 atoms, 299 residues)\n",
      "Identified residue PRO21 as a starting terminus.\n",
      "Identified residue LYS319 as a ending terminus.\n",
      "Start terminus PRO-21: PRO-NH2+\n",
      "End terminus LYS-319: COO-\n",
      "Checking for duplicate atoms....\n",
      "Generating any missing hydrogen atoms and/or adding termini.\n",
      "Now there are 299 residues with 4758 atoms\n",
      "\t\t--------- PLEASE NOTE ------------\n",
      "You have successfully generated a topology from: /home/willem/pymemdyn-teaching/notebook/rundir/protein-his.pdb.\n",
      "The Oplsaa force field and the spc water model are used.\n",
      "\t\t--------- ETON ESAELP ------------\n",
      "\n"
     ]
    }
   ],
   "source": [
    "run.moldyn_notebook_run(\"pdb2gmx\")"
   ]
  },
  {
   "cell_type": "markdown",
   "id": "55a3b1f0-3d15-436d-abb2-f224f1226498",
   "metadata": {},
   "source": [
    "**Ater** you have completed all steps above, you would normally start running the MD simulation. However it takes a few hours to complete on a pretty large cluster,\n",
    "so we have already done it for you.\n",
    "The output from a PyMemDyn run can be found in the finalOutput folder, which we copy in here now\n",
    "\n",
    "- Note, it takes a bit of time before all files are transferred."
   ]
  },
  {
   "cell_type": "code",
   "execution_count": 44,
   "id": "bcdde28b-8744-4d1a-97d5-f4d5e8e54ef9",
   "metadata": {},
   "outputs": [],
   "source": [
    "!cp -r ../data/finalOutput ."
   ]
  },
  {
   "cell_type": "markdown",
   "id": "d32b4b98-0a23-4010-b6b9-52a839c7520e",
   "metadata": {},
   "source": [
    "Typically, it's useful to analyze a few properties, like temperature and pressure, but also RMSD and RMSF (if you don't know what those are please google it or ask a TA :) ) are good indicators for the stability of your simulation. We can use a basic plotting program called grace to work with gromacs output files, e.g.: to check the temperature during your simulation run:"
   ]
  },
  {
   "cell_type": "code",
   "execution_count": 49,
   "id": "5fb159be-38fa-41e3-af71-d400e1cea85e",
   "metadata": {},
   "outputs": [],
   "source": [
    "!xmgrace finalOutput/reports/temp.xvg"
   ]
  },
  {
   "cell_type": "markdown",
   "id": "7f684784-28da-4513-b240-9b297b3d9fbf",
   "metadata": {},
   "source": [
    "Plot the other properties as well (all the other .xvg files), and save them in a file. Write a short description for each of the figures. Discuss what you are seeing with your fellow students and/or TAs. Note that you need to close the xmgrace window that opened everytime you want to load a new figure, or you need to add a new code block.\n",
    "\n",
    "Next, we can have a look at the trajectory. Open PyMOL and change to the finalOutput directory. There, you can load a PyMOL script (.pml) generated by PyMemDyn, by typing @load_gpcr.pml\n",
    "\n",
    "- Can you see when the restraints are released in the simulation? \n",
    "- Can you link that to events described in the PyMemDyn and GPCR-ModSim papers?\n",
    "- Do you think the ligand looks stable?\n",
    "- What could you do to further assess ligand stability?\n",
    "- Do we know anything about the binding affinity now?\n",
    "\n",
    "Thanks for participating in this last computerlab, as always please ask your TA any questions if something is unclear!"
   ]
  },
  {
   "cell_type": "code",
   "execution_count": null,
   "id": "5d2edf4d-8e77-465a-9dd2-dedc5288f187",
   "metadata": {},
   "outputs": [],
   "source": []
  }
 ],
 "metadata": {
  "kernelspec": {
   "display_name": "Python 3 (ipykernel)",
   "language": "python",
   "name": "python3"
  },
  "language_info": {
   "codemirror_mode": {
    "name": "ipython",
    "version": 3
   },
   "file_extension": ".py",
   "mimetype": "text/x-python",
   "name": "python",
   "nbconvert_exporter": "python",
   "pygments_lexer": "ipython3",
   "version": "3.10.4"
  }
 },
 "nbformat": 4,
 "nbformat_minor": 5
}
