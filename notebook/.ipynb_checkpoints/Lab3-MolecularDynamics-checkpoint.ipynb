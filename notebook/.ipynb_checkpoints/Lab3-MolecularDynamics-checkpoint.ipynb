{
 "cells": [
  {
   "cell_type": "markdown",
   "id": "3790f1b6-5fe1-406b-87eb-32475c89e33a",
   "metadata": {},
   "source": [
    "## Lab3 Molecular Dynamics\n",
    "\n",
    "In this lab, we will prepare and run the necessary steps to perform MD simulations of the cannabinoid 2 receptor. We use the crystal structure 6kpf (https://www.rcsb.org/structure/6KPF) as a starting point.\n",
    "\n",
    "The lab includes a series of steps to interact with the GROMACS program, as well as with a few python script included in the python package PyMemDyn. Normally, these steps are all run at once, but here we try to run them individually to better understand which steps are needed to succesfully run MD on a membrane protein.\n",
    "\n",
    "I reccomend to read up on pymemdyn and related webserver here:\n",
    "https://portlandpress.com/biochemsoctrans/article-abstract/41/1/205/68208/Characterization-of-the-dynamic-events-of-GPCRs-by\n",
    "and\n",
    "https://academic.oup.com/nar/article/44/W1/W455/2499371?login=true\n",
    "\n",
    "We have pregenerated the ligand parameters using LigParGen:\n",
    "http://zarbi.chem.yale.edu/ligpargen/\n",
    "\n",
    "Below, you will find the relevant code blocks that you can execute by using the play button on top, or by typing shft+enter.\n",
    "\n",
    "If you want to know more about what the code is doing, please ask one of the teachers!"
   ]
  },
  {
   "cell_type": "code",
   "execution_count": 1,
   "id": "59348d05-aaf7-4c93-b0df-22b5ad8e50c6",
   "metadata": {},
   "outputs": [],
   "source": [
    "#!/usr/bin/env python3.7\n",
    "# Import python native functions\n",
    "import argparse\n",
    "import os\n",
    "import shutil\n",
    "import sys\n",
    "\n",
    "# Add PyMemDyn modules\n",
    "sys.path.insert(0, '../')\n",
    "\n",
    "import complex\n",
    "import gromacs\n",
    "import membrane\n",
    "import protein\n",
    "import pymemqueue\n",
    "import settings\n",
    "import recipes\n",
    "from pymemdyn import Run"
   ]
  },
  {
   "cell_type": "code",
   "execution_count": 2,
   "id": "074f99e2-b759-48ad-87f0-c3463d084df8",
   "metadata": {},
   "outputs": [],
   "source": [
    "!cp data/protein.pdb rundir/"
   ]
  },
  {
   "cell_type": "code",
   "execution_count": 3,
   "id": "2bc0d313-f553-4d4f-82a0-39bf722fa4d1",
   "metadata": {},
   "outputs": [
    {
     "data": {
      "text/plain": [
       "True"
      ]
     },
     "execution_count": 3,
     "metadata": {},
     "output_type": "execute_result"
    }
   ],
   "source": [
    "# First, we instantiate the run class of pymemdyn, this top level object takes run time variables\n",
    "# and stores them in an object so we can use them in the next steps\n",
    "os.chdir('rundir')\n",
    "run = Run(own_dir = os.getcwd(),\n",
    "          repo_dir = settings.TEMPLATES_DIR,\n",
    "          pdb = 'protein.pdb',\n",
    "          ligand = 'E3R',\n",
    "          alosteric = None,\n",
    "          waters = None,\n",
    "          ions = None,\n",
    "          cho = None,\n",
    "          ligpargen = 'l',\n",
    "          library = None,\n",
    "          restraint = 'bw',\n",
    "          queue = \"\",\n",
    "          debug = True\n",
    ")\n",
    "# Clean up old files\n",
    "run.clean()"
   ]
  },
  {
   "cell_type": "code",
   "execution_count": 7,
   "id": "af0c1d86-a71e-4278-b240-0999eb48638e",
   "metadata": {},
   "outputs": [
    {
     "name": "stdout",
     "output_type": "stream",
     "text": [
      "cp: cannot stat './data/protein.pdb': No such file or directory\n"
     ]
    }
   ],
   "source": [
    "!cp ./data/protein.pdb rundir/\n",
    "!cp ../data/E3R.pdb .\n",
    "!cp ../data/E3R.itp ."
   ]
  },
  {
   "cell_type": "markdown",
   "id": "915b4738-8642-433c-aafd-bb18695ce5dc",
   "metadata": {
    "tags": []
   },
   "source": [
    "This command returns a list of each of the steps run by the program pymemdyn.\n",
    "We will use these keywords in the next command block to run the individual steps\n",
    "in the program.\n",
    "Note that pymemdyn can also run everything in one go (this was the intention of the \n",
    "program), but for teaching purposes it makes more sense to carefully look at each individual step."
   ]
  },
  {
   "cell_type": "code",
   "execution_count": 8,
   "id": "059c6c54-9809-441f-9d0c-142d3b4fa955",
   "metadata": {},
   "outputs": [
    {
     "name": "stdout",
     "output_type": "stream",
     "text": [
      "pdb2gmx\n",
      "set_itp\n",
      "concat\n",
      "editconf\n",
      "set_protein_size\n",
      "editconf2\n",
      "set_protein_size2\n",
      "set_popc\n",
      "editconf3\n",
      "make_ndx_lig\n",
      "genrestr_lig\n",
      "editconf4\n",
      "make_topol\n",
      "editconf5\n",
      "solvate\n",
      "set_water\n",
      "editconf6\n",
      "editconf7\n",
      "solvate2\n",
      "count_lipids\n",
      "make_topol2\n",
      "make_topol_lipids\n",
      "make_ffoplsaanb\n",
      "set_grompp\n",
      "set_chains\n",
      "make_ndx\n",
      "grompp\n",
      "trjconv\n",
      "get_charge\n",
      "genion\n",
      "grompp2\n",
      "trjconv2\n",
      "grompp3\n",
      "trjconv3\n",
      "clean_pdb\n"
     ]
    }
   ],
   "source": [
    "run.moldyn_notebook_info()"
   ]
  },
  {
   "cell_type": "markdown",
   "id": "650e5a69-9476-42de-8624-dffdddf00c91",
   "metadata": {},
   "source": [
    "You can use the code block below to run each of the commands individually, there will be a short description of each of the\n",
    "steps printed out. The first step (pdb2gmx) has already been filled in so you know what input to use. Some commands are running via GROMACS (indicated in the header) other commands are actual python\n",
    "scripts part of the pymemdyn package.\n",
    "\n",
    "Sometimes the help function mentions a filetype (.top or .itp for instance) if you don't know what these files are\n",
    "you can find more information here:\n",
    "https://manual.gromacs.org/documentation/5.1.1/user-guide/file-formats.html"
   ]
  },
  {
   "cell_type": "code",
   "execution_count": 43,
   "id": "560f0a69-d87e-41d7-a787-1ed7be794d5f",
   "metadata": {},
   "outputs": [
    {
     "name": "stdout",
     "output_type": "stream",
     "text": [
      "LigandInit : clean_pdb.\n",
      "Running the following command\n",
      "{'command': 'clean_pdb', 'options': {'src': 'hexagon.pdb', 'tgt': 'hexagon.pdb'}}\n",
      "\n",
      "========================INFO============================\n",
      "\n",
      "Python function\n",
      " Remove incorrectly allocated atom identifiers in pdb file\n",
      "\n",
      "========================INFO END========================\n",
      "\n"
     ]
    }
   ],
   "source": [
    "run.moldyn_notebook_run(\"clean_pdb\")"
   ]
  },
  {
   "cell_type": "code",
   "execution_count": 8,
   "id": "bcdde28b-8744-4d1a-97d5-f4d5e8e54ef9",
   "metadata": {},
   "outputs": [],
   "source": [
    "# Ater you have completed all steps above, you would normally start running the MD simulation. However it takes a few hours to complete,\n",
    "# so we have already done it for you.\n",
    "# The output from a PyMemDyn run can be found in the finalOutput folder, which we copy in here now\n",
    "\n",
    "!cp -r ../data/finalOutput .\n",
    "\n",
    "# Note, it takes a bit of time before all files are transferred."
   ]
  },
  {
   "cell_type": "code",
   "execution_count": 9,
   "id": "78b8d52d-74e8-4408-8c6f-e99b8da8a118",
   "metadata": {},
   "outputs": [
    {
     "name": "stdout",
     "output_type": "stream",
     "text": [
      "/home/willem/pymemdyn-teaching/notebook/rundir\n"
     ]
    }
   ],
   "source": [
    "!pwd"
   ]
  },
  {
   "cell_type": "code",
   "execution_count": null,
   "id": "c95e85f1-c1ce-4ac1-be93-2880fb86288b",
   "metadata": {},
   "outputs": [],
   "source": []
  }
 ],
 "metadata": {
  "kernelspec": {
   "display_name": "Python 3 (ipykernel)",
   "language": "python",
   "name": "python3"
  },
  "language_info": {
   "codemirror_mode": {
    "name": "ipython",
    "version": 3
   },
   "file_extension": ".py",
   "mimetype": "text/x-python",
   "name": "python",
   "nbconvert_exporter": "python",
   "pygments_lexer": "ipython3",
   "version": "3.10.4"
  }
 },
 "nbformat": 4,
 "nbformat_minor": 5
}
