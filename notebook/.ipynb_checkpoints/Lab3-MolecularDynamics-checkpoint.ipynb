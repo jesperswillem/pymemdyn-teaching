{
 "cells": [
  {
   "cell_type": "code",
   "execution_count": 1,
   "id": "59348d05-aaf7-4c93-b0df-22b5ad8e50c6",
   "metadata": {},
   "outputs": [],
   "source": [
    "#!/usr/bin/env python3.7\n",
    "import argparse\n",
    "import os\n",
    "import shutil\n",
    "import sys\n",
    "\n",
    "# Add PyMemDyn modules\n",
    "sys.path.insert(0, '../')\n",
    "\n",
    "import complex\n",
    "import gromacs\n",
    "import membrane\n",
    "import protein\n",
    "import pymemqueue\n",
    "import settings\n",
    "import recipes\n",
    "from pymemdyn import Run"
   ]
  },
  {
   "cell_type": "code",
   "execution_count": 2,
   "id": "074f99e2-b759-48ad-87f0-c3463d084df8",
   "metadata": {},
   "outputs": [],
   "source": [
    "!cp data/clean/* rundir/"
   ]
  },
  {
   "cell_type": "code",
   "execution_count": 3,
   "id": "2bc0d313-f553-4d4f-82a0-39bf722fa4d1",
   "metadata": {},
   "outputs": [
    {
     "data": {
      "text/plain": [
       "True"
      ]
     },
     "execution_count": 3,
     "metadata": {},
     "output_type": "execute_result"
    }
   ],
   "source": [
    "# First, we instantiate the run class of pymemdyn, this top level object takes run time variables\n",
    "# and stores them in an object so we can use them in the next steps\n",
    "os.chdir('rundir')\n",
    "run = Run(own_dir = os.getcwd(),\n",
    "          repo_dir = settings.TEMPLATES_DIR,\n",
    "          pdb = 'protein.pdb',\n",
    "          ligand = 'E3R',\n",
    "          alosteric = None,\n",
    "          waters = None,\n",
    "          ions = None,\n",
    "          cho = None,\n",
    "          ligpargen = 'l',\n",
    "          library = None,\n",
    "          restraint = 'bw',\n",
    "          queue = \"\",\n",
    "          debug = True\n",
    ")\n",
    "# Clean up old files\n",
    "run.clean()"
   ]
  },
  {
   "cell_type": "code",
   "execution_count": 4,
   "id": "059c6c54-9809-441f-9d0c-142d3b4fa955",
   "metadata": {},
   "outputs": [
    {
     "name": "stdout",
     "output_type": "stream",
     "text": [
      "pdb2gmx\n",
      "set_itp\n",
      "concat\n",
      "editconf\n",
      "set_protein_size\n",
      "editconf2\n",
      "set_protein_size2\n",
      "set_popc\n",
      "editconf3\n",
      "make_ndx_lig\n",
      "genrestr_lig\n",
      "editconf4\n",
      "make_topol\n",
      "editconf5\n",
      "solvate\n",
      "set_water\n",
      "editconf6\n",
      "editconf7\n",
      "solvate2\n",
      "count_lipids\n",
      "make_topol2\n",
      "make_topol_lipids\n",
      "make_ffoplsaanb\n",
      "set_grompp\n",
      "set_chains\n",
      "make_ndx\n",
      "grompp\n",
      "trjconv\n",
      "get_charge\n",
      "genion\n",
      "grompp2\n",
      "trjconv2\n",
      "grompp3\n",
      "trjconv3\n",
      "clean_pdb\n"
     ]
    }
   ],
   "source": [
    "# This command returns a list of each of the steps run by the program pymemdyn.\n",
    "# We will use these keywords in the next command block to run the individual steps\n",
    "# in the program.\n",
    "# Note that pymemdyn can also run everything in one go (this was the intention of the \n",
    "# program), but for teaching purposes it makes more sense to carefully look at each individual step\n",
    "run.moldyn_notebook_info()"
   ]
  },
  {
   "cell_type": "code",
   "execution_count": 6,
   "id": "560f0a69-d87e-41d7-a787-1ed7be794d5f",
   "metadata": {},
   "outputs": [
    {
     "name": "stdout",
     "output_type": "stream",
     "text": [
      "LigandInit : pdb2gmx.\n",
      "{'gromacs': 'pdb2gmx', 'options': {'src': 'protein-his.pdb', 'tgt': 'proteinopls.pdb', 'top': 'protein.top'}, 'queue': <pymemqueue.NoQueue object at 0x7ffa8c5fc340>}\n",
      "====================INFO========================\n",
      "\n",
      "In this step, we convert the pdb file to a gromacs object\n",
      "====================INFO END====================\n",
      "\n",
      "\n",
      "Using the Oplsaa force field in directory oplsaa.ff\n",
      "\n",
      "Reading /home/willem/pymemdyn-teaching/notebook/rundir/protein-his.pdb...\n",
      "Read 2326 atoms\n",
      "Analyzing pdb file\n",
      "Splitting chemical chains based on TER records or chain id changing.\n",
      "There are 1 chains and 0 blocks of water and 299 residues with 2326 atoms\n",
      "\n",
      "  chain  #res #atoms\n",
      "  1 ' '   299   2326  \n",
      "\n",
      "Reading residue database... (oplsaa)\n",
      "Processing chain 1 (2326 atoms, 299 residues)\n",
      "Identified residue PRO21 as a starting terminus.\n",
      "Identified residue LYS319 as a ending terminus.\n",
      "Start terminus PRO-21: PRO-NH2+\n",
      "End terminus LYS-319: COO-\n",
      "Checking for duplicate atoms....\n",
      "Generating any missing hydrogen atoms and/or adding termini.\n",
      "Now there are 299 residues with 4758 atoms\n",
      "\t\t--------- PLEASE NOTE ------------\n",
      "You have successfully generated a topology from: /home/willem/pymemdyn-teaching/notebook/rundir/protein-his.pdb.\n",
      "The Oplsaa force field and the spc water model are used.\n",
      "\t\t--------- ETON ESAELP ------------\n",
      "\n"
     ]
    }
   ],
   "source": [
    "# You can use this block to run each of the commands individually, there will be a short description of each of the\n",
    "# steps printed out. Some commands are running via GROMACS (indicated in the header) other commands are actual python\n",
    "# scripts part of the gromacs.py module.\n",
    "\n",
    "# Sometimes the help function mentions a filetype (.top or .itp for instance) if you don't know what these files are\n",
    "# you can find more information here:\n",
    "# https://manual.gromacs.org/documentation/5.1.1/user-guide/file-formats.html\n",
    "\n",
    "run.moldyn_notebook_run(\"pdb2gmx\")"
   ]
  },
  {
   "cell_type": "code",
   "execution_count": null,
   "id": "bcdde28b-8744-4d1a-97d5-f4d5e8e54ef9",
   "metadata": {},
   "outputs": [],
   "source": []
  }
 ],
 "metadata": {
  "kernelspec": {
   "display_name": "Python 3 (ipykernel)",
   "language": "python",
   "name": "python3"
  },
  "language_info": {
   "codemirror_mode": {
    "name": "ipython",
    "version": 3
   },
   "file_extension": ".py",
   "mimetype": "text/x-python",
   "name": "python",
   "nbconvert_exporter": "python",
   "pygments_lexer": "ipython3",
   "version": "3.10.4"
  }
 },
 "nbformat": 4,
 "nbformat_minor": 5
}
