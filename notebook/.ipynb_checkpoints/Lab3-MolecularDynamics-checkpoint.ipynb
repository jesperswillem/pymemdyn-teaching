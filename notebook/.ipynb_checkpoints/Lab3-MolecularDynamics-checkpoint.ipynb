{
 "cells": [
  {
   "cell_type": "code",
   "execution_count": 1,
   "id": "59348d05-aaf7-4c93-b0df-22b5ad8e50c6",
   "metadata": {},
   "outputs": [],
   "source": [
    "#!/usr/bin/env python3.7\n",
    "import argparse\n",
    "import os\n",
    "import shutil\n",
    "import sys\n",
    "\n",
    "# Add PyMemDyn modules\n",
    "sys.path.insert(0, '../')\n",
    "\n",
    "import complex\n",
    "import gromacs\n",
    "import membrane\n",
    "import protein\n",
    "import pymemqueue\n",
    "import settings\n",
    "import recipes\n",
    "from pymemdyn import Run"
   ]
  },
  {
   "cell_type": "code",
   "execution_count": 2,
   "id": "074f99e2-b759-48ad-87f0-c3463d084df8",
   "metadata": {},
   "outputs": [],
   "source": [
    "!cp data/clean/* rundir/"
   ]
  },
  {
   "cell_type": "code",
   "execution_count": 3,
   "id": "2bc0d313-f553-4d4f-82a0-39bf722fa4d1",
   "metadata": {},
   "outputs": [],
   "source": [
    "# First, we intantiate the run class of pymemdyn, this top level object takes run time variables\n",
    "# and stores them in an object so we can use them in the next steps\n",
    "os.chdir('rundir')\n",
    "run = Run(own_dir = os.getcwd(),\n",
    "          repo_dir = settings.TEMPLATES_DIR,\n",
    "          pdb = 'protein.pdb',\n",
    "          ligand = 'E3R',\n",
    "          alosteric = None,\n",
    "          waters = None,\n",
    "          ions = None,\n",
    "          cho = None,\n",
    "          ligpargen = 'l',\n",
    "          library = None,\n",
    "          restraint = 'bw',\n",
    "          queue = \"\",\n",
    "          debug = False\n",
    ")"
   ]
  },
  {
   "cell_type": "code",
   "execution_count": 4,
   "id": "059c6c54-9809-441f-9d0c-142d3b4fa955",
   "metadata": {},
   "outputs": [
    {
     "name": "stdout",
     "output_type": "stream",
     "text": [
      "['pdb2gmx', 'set_itp', 'concat', 'editconf', 'set_protein_size', 'editconf2', 'set_protein_size2', 'set_popc', 'editconf3', 'make_ndx_lig', 'genrestr_lig', 'editconf4', 'make_topol', 'editconf5', 'solvate', 'set_water', 'editconf6', 'editconf7', 'solvate2', 'count_lipids', 'make_topol2', 'make_topol_lipids', 'make_ffoplsaanb', 'set_grompp', 'set_chains', 'make_ndx', 'grompp', 'trjconv', 'get_charge', 'genion', 'grompp2', 'trjconv2', 'grompp3', 'trjconv3', 'clean_pdb']\n"
     ]
    }
   ],
   "source": [
    "run.moldyn_notebook_info()"
   ]
  },
  {
   "cell_type": "code",
   "execution_count": null,
   "id": "560f0a69-d87e-41d7-a787-1ed7be794d5f",
   "metadata": {},
   "outputs": [],
   "source": [
    "run.moldyn_notebook_info(\"Init\")"
   ]
  }
 ],
 "metadata": {
  "kernelspec": {
   "display_name": "Python 3 (ipykernel)",
   "language": "python",
   "name": "python3"
  },
  "language_info": {
   "codemirror_mode": {
    "name": "ipython",
    "version": 3
   },
   "file_extension": ".py",
   "mimetype": "text/x-python",
   "name": "python",
   "nbconvert_exporter": "python",
   "pygments_lexer": "ipython3",
   "version": "3.10.4"
  }
 },
 "nbformat": 4,
 "nbformat_minor": 5
}
