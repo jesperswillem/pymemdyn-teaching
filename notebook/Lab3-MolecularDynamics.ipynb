{
 "cells": [
  {
   "attachments": {},
   "cell_type": "markdown",
   "id": "3790f1b6-5fe1-406b-87eb-32475c89e33a",
   "metadata": {},
   "source": [
    "## Lab3: Molecular Dynamics\n",
    "\n",
    "In this lab, we will prepare and run the necessary steps to perform molecular dynamics (MD) simulations of the cannabinoid 2 (CB2) receptor-ligand complex. \n",
    "\n",
    "The lab includes a series of steps to interact with the GROMACS program, as well as with a few Python scripts included within the Python package PyMemDyn. Normally, these steps are all run at once, but here we run them individually to better understand which steps are needed to successfully run MD on a membrane protein.\n",
    "\n",
    "I recommend to read up on PyMemDyn and related webserver if the following papers: \\\n",
    "https://portlandpress.com/biochemsoctrans/article-abstract/41/1/205/68208/Characterization-of-the-dynamic-events-of-GPCRs-by \\\n",
    "https://academic.oup.com/nar/article/44/W1/W455/2499371?login=true\n",
    "\n",
    "Below, you will find the relevant code blocks that you can execute by using the play button on top, or by typing Shift+Enter. You will use PyMOL to visualize the process of creating an MD simulation, and the MD simulation itself.\n",
    "\n",
    "If you want to know more about what the code is doing, please ask one of the teachers!"
   ]
  },
  {
   "attachments": {},
   "cell_type": "markdown",
   "id": "f4e1b3c6",
   "metadata": {},
   "source": [
    "### Load PyMemDyn"
   ]
  },
  {
   "cell_type": "code",
   "execution_count": 50,
   "id": "59348d05-aaf7-4c93-b0df-22b5ad8e50c6",
   "metadata": {},
   "outputs": [],
   "source": [
    "# Import python native functions\n",
    "import os\n",
    "import sys\n",
    "\n",
    "# Add PyMemDyn modules\n",
    "sys.path.insert(0, '../')\n",
    "\n",
    "import settings\n",
    "from pymemdyn import Run"
   ]
  },
  {
   "attachments": {},
   "cell_type": "markdown",
   "id": "425dcf7e",
   "metadata": {},
   "source": [
    "### Input\n",
    "\n",
    "We copy in the protein and ligand input files as these have already been pre-processed before the lab."
   ]
  },
  {
   "cell_type": "code",
   "execution_count": 51,
   "id": "af0c1d86-a71e-4278-b240-0999eb48638e",
   "metadata": {},
   "outputs": [],
   "source": [
    "if not os.getcwd().endswith('rundir'):\n",
    "    os.chdir('rundir')"
   ]
  },
  {
   "cell_type": "code",
   "execution_count": 52,
   "id": "0ca1a9df-6cca-4cc3-9a5f-ffbe39e25735",
   "metadata": {},
   "outputs": [],
   "source": [
    "# copy input files to working directory\n",
    "!cp ../data/protein.pdb .\n",
    "!cp ../data/E3R.pdb .\n",
    "!cp ../data/E3R.itp .\n",
    "!cp ../data/E3R.ff ."
   ]
  },
  {
   "attachments": {},
   "cell_type": "markdown",
   "id": "8bcd569e",
   "metadata": {},
   "source": [
    "We use the crystal structure 6KPF (https://www.rcsb.org/structure/6KPF) as a starting point. By opening the protein.pdb file in PyMOL, you can see that the structure has been modified compared to the original crystal structure file on the RCSB PDB. \n",
    "\n",
    "Due to limitations in crystalizing highly-flexible regions of a protein, some sub-structures are not present within the crystal structure. Therefore, we also connect loops which were disconnected, and check if all amino acid side-chains are present. Also, the G protein was removed from the complex.\n",
    "\n",
    "\n",
    "For the ligand input, we pre-generated the OPLS forcefield parameters using the LigParGen webserver (http://zarbi.chem.yale.edu/ligpargen/).\n"
   ]
  },
  {
   "cell_type": "markdown",
   "id": "fbb2ad3b",
   "metadata": {},
   "source": [
    "\n",
    "### Running PyMemDyn"
   ]
  },
  {
   "attachments": {},
   "cell_type": "markdown",
   "id": "e20f40e7",
   "metadata": {},
   "source": [
    "First, we instantiate the Run class of PyMemDyn, this top level object takes run time variables and stores them in an object so we can use them in the next steps"
   ]
  },
  {
   "cell_type": "code",
   "execution_count": 53,
   "id": "2bc0d313-f553-4d4f-82a0-39bf722fa4d1",
   "metadata": {},
   "outputs": [],
   "source": [
    "run = Run(own_dir = os.getcwd(),\n",
    "          repo_dir = settings.TEMPLATES_DIR,\n",
    "          pdb = 'protein.pdb',\n",
    "          ligand = 'E3R',\n",
    "          alosteric = None,\n",
    "          waters = None,\n",
    "          ions = None,\n",
    "          cho = None,\n",
    "          ligpargen = None,\n",
    "          library = None,\n",
    "          restraint = 'bw',\n",
    "          queue = \"\",\n",
    "          debug = True\n",
    ")"
   ]
  },
  {
   "attachments": {},
   "cell_type": "markdown",
   "id": "915b4738-8642-433c-aafd-bb18695ce5dc",
   "metadata": {
    "tags": []
   },
   "source": [
    "The command bellow returns a list of each of the steps run by the PyMemDyn.\n",
    "We will use these keywords in the following command blocks to run the individual steps\n",
    "in the program.\n",
    "Note that PyMemDyn can also run everything in one go (this was the intention of the \n",
    "program), but for teaching purposes it makes more sense to carefully look at each individual step."
   ]
  },
  {
   "cell_type": "code",
   "execution_count": 54,
   "id": "059c6c54-9809-441f-9d0c-142d3b4fa955",
   "metadata": {},
   "outputs": [
    {
     "name": "stdout",
     "output_type": "stream",
     "text": [
      "['pdb2gmx', 'set_itp', 'concat', 'editconf', 'set_protein_size', 'editconf2', 'set_protein_size2', 'set_popc', 'editconf3', 'make_ndx_lig', 'genrestr_lig', 'editconf4', 'make_topol', 'editconf5', 'solvate', 'set_water', 'editconf6', 'editconf7', 'solvate2', 'count_lipids', 'make_topol2', 'make_topol_lipids', 'make_ffoplsaanb', 'set_grompp', 'set_chains', 'make_ndx', 'grompp', 'trjconv', 'get_charge', 'genion', 'grompp2', 'trjconv2', 'grompp3', 'trjconv3', 'clean_pdb']\n"
     ]
    }
   ],
   "source": [
    "run.moldyn_notebook_info()"
   ]
  },
  {
   "attachments": {},
   "cell_type": "markdown",
   "id": "650e5a69-9476-42de-8624-dffdddf00c91",
   "metadata": {},
   "source": [
    "You can use the code block below to run each of the commands individually, there will be a short description of each of the\n",
    "steps printed out. Some commands are running via GROMACS (indicated in the header) other commands are actual Python\n",
    "scripts part of the PyMemDyn package.\n",
    "\n",
    "Sometimes the help function mentions a filetype (.top or .itp for instance) if you don't know what these files are\n",
    "you can find more information here: \\\n",
    "https://manual.gromacs.org/documentation/5.1.1/user-guide/file-formats.html\n"
   ]
  },
  {
   "attachments": {},
   "cell_type": "markdown",
   "id": "0d0897cd",
   "metadata": {},
   "source": [
    "#### Setup Protein-Ligand Complex"
   ]
  },
  {
   "cell_type": "code",
   "execution_count": 55,
   "id": "560f0a69-d87e-41d7-a787-1ed7be794d5f",
   "metadata": {},
   "outputs": [
    {
     "name": "stdout",
     "output_type": "stream",
     "text": [
      "LigandInit : pdb2gmx.\n",
      "Running the following command\n",
      "{'gromacs': 'pdb2gmx', 'options': {'src': 'protein-his.pdb', 'tgt': 'proteinopls.pdb', 'top': 'protein.top'}}\n",
      "\n",
      "========================INFO============================\n",
      "\n",
      "GROMACS command\n",
      " Convert the input pdb file to a gromacs object\n",
      "\n",
      "========================INFO END========================\n",
      "\n",
      "\n",
      "Using the Oplsaa force field in directory oplsaa.ff\n",
      "\n",
      "going to rename oplsaa.ff/aminoacids.r2b\n",
      "Reading /home/remco/apps/pymemdyn-teaching/notebook/rundir/protein-his.pdb...\n",
      "Read '', 2326 atoms\n",
      "Analyzing pdb file\n",
      "Splitting chemical chains based on TER records or chain id changing.\n",
      "There are 1 chains and 0 blocks of water and 299 residues with 2326 atoms\n",
      "\n",
      "  chain  #res #atoms\n",
      "  1 ' '   299   2326  \n",
      "\n",
      "Reading residue database... (Oplsaa)\n",
      "Processing chain 1 (2326 atoms, 299 residues)\n",
      "Identified residue PRO21 as a starting terminus.\n",
      "Identified residue LYS319 as a ending terminus.\n",
      "Start terminus PRO-21: PRO-NH2+\n",
      "End terminus LYS-319: COO-\n",
      "Checking for duplicate atoms....\n",
      "Generating any missing hydrogen atoms and/or adding termini.\n",
      "Now there are 299 residues with 4758 atoms\n",
      "\t\t--------- PLEASE NOTE ------------\n",
      "You have successfully generated a topology from: /home/remco/apps/pymemdyn-teaching/notebook/rundir/protein-his.pdb.\n",
      "The Oplsaa force field and the spc water model are used.\n",
      "\t\t--------- ETON ESAELP ------------\n",
      "\n"
     ]
    }
   ],
   "source": [
    "run.moldyn_notebook_run(\"pdb2gmx\")"
   ]
  },
  {
   "cell_type": "code",
   "execution_count": 56,
   "id": "212cca52",
   "metadata": {},
   "outputs": [
    {
     "name": "stdout",
     "output_type": "stream",
     "text": [
      "LigandInit : set_itp.\n",
      "Running the following command\n",
      "{'command': 'set_itp', 'options': {'src': 'protein.top', 'tgt': 'protein.itp'}}\n",
      "\n",
      "========================INFO============================\n",
      "\n",
      "Python function (gromacs.py)\n",
      " Takes the generated .top file and stores it as itp file for later use\n",
      "\n",
      "========================INFO END========================\n",
      "\n"
     ]
    }
   ],
   "source": [
    "run.moldyn_notebook_run(\"set_itp\")"
   ]
  },
  {
   "cell_type": "code",
   "execution_count": 57,
   "id": "34f941fa",
   "metadata": {},
   "outputs": [
    {
     "name": "stdout",
     "output_type": "stream",
     "text": [
      "LigandInit : concat.\n",
      "Running the following command\n",
      "{'command': 'concat', 'options': {'src': 'proteinopls.pdb', 'tgt': <protein.ProteinComplex object at 0x7fc16059a8b0>}}\n",
      "\n",
      "========================INFO============================\n",
      "\n",
      "Python function (utils.py)\n",
      " Combines listed pdb files in one pdb file\n",
      "\n",
      "========================INFO END========================\n",
      "\n"
     ]
    }
   ],
   "source": [
    "run.moldyn_notebook_run(\"concat\")"
   ]
  },
  {
   "cell_type": "code",
   "execution_count": 58,
   "id": "080f1a84",
   "metadata": {},
   "outputs": [
    {
     "name": "stdout",
     "output_type": "stream",
     "text": [
      "LigandInit : editconf.\n",
      "Running the following command\n",
      "{'gromacs': 'editconf', 'options': {'src': 'proteinopls.pdb', 'tgt': 'proteinopls.pdb', 'dist': 2.0}}\n",
      "\n",
      "========================INFO============================\n",
      "\n",
      "GROMACS command\n",
      " Converts generic structure format to .gro, .g96 or .pdb.\n",
      "\n",
      "========================INFO END========================\n",
      "\n",
      "Note that major changes are planned in future for editconf, to improve usability and utility.Read 4816 atoms\n",
      "Volume: 0 nm^3, corresponds to roughly 0 electrons\n",
      "No velocities found\n",
      "    system size :  4.440  5.759  7.098 (nm)\n",
      "    center      : -0.724 -0.694  3.794 (nm)\n",
      "    box vectors :  0.100  0.100  0.000 (nm)\n",
      "    box angles  :   0.00   0.00  90.00 (degrees)\n",
      "    box volume  :   0.00               (nm^3)\n",
      "    shift       :  4.945  5.574  1.755 (nm)\n",
      "new center      :  4.220  4.880  5.549 (nm)\n",
      "new box vectors :  8.441  9.759 11.098 (nm)\n",
      "new box angles  :  90.00  90.00  90.00 (degrees)\n",
      "new box volume  : 914.21               (nm^3)\n",
      "\n",
      "WARNING: No boxtype specified - distance condition applied in each dimension.\n",
      "If the molecule rotates the actual distance will be smaller. You might want\n",
      "to use a cubic box instead, or why not try a dodecahedron today?\n",
      "\n"
     ]
    }
   ],
   "source": [
    "run.moldyn_notebook_run(\"editconf\")"
   ]
  },
  {
   "cell_type": "code",
   "execution_count": 59,
   "id": "29475ac3",
   "metadata": {},
   "outputs": [
    {
     "name": "stdout",
     "output_type": "stream",
     "text": [
      "LigandInit : set_protein_size.\n",
      "Running the following command\n",
      "{'command': 'set_protein_size', 'options': {'src': 'proteinopls.pdb', 'dir': 'xy'}}\n",
      "\n",
      "========================INFO============================\n",
      "\n",
      "Python function (gromacs.py)\n",
      " Get the protein maximum base width from a pdb file (in xy direction)\n",
      "\n",
      "========================INFO END========================\n",
      "\n"
     ]
    }
   ],
   "source": [
    "run.moldyn_notebook_run(\"set_protein_size\")"
   ]
  },
  {
   "cell_type": "code",
   "execution_count": 60,
   "id": "ab150d11",
   "metadata": {},
   "outputs": [
    {
     "name": "stdout",
     "output_type": "stream",
     "text": [
      "LigandInit : editconf2.\n",
      "Running the following command\n",
      "{'gromacs': 'editconf', 'options': {'src': 'proteinopls.pdb', 'tgt': 'proteinopls.pdb', 'dist': 0.8}}\n",
      "\n",
      "========================INFO============================\n",
      "\n",
      "GROMACS command\n",
      " Re-adjust the previous system size with the above protein size\n",
      "\n",
      "========================INFO END========================\n",
      "\n",
      "Note that major changes are planned in future for editconf, to improve usability and utility.Read 4816 atoms\n",
      "Volume: 914.214 nm^3, corresponds to roughly 411300 electrons\n",
      "No velocities found\n",
      "    system size :  4.441  5.759  7.098 (nm)\n",
      "    center      :  4.220  4.880  5.549 (nm)\n",
      "    box vectors :  8.441  9.759 11.098 (nm)\n",
      "    box angles  :  90.00  90.00  90.00 (degrees)\n",
      "    box volume  : 914.21               (nm^3)\n",
      "    shift       : -1.200 -1.200 -1.200 (nm)\n",
      "new center      :  3.020  3.680  4.349 (nm)\n",
      "new box vectors :  6.041  7.359  8.698 (nm)\n",
      "new box angles  :  90.00  90.00  90.00 (degrees)\n",
      "new box volume  : 386.68               (nm^3)\n",
      "\n",
      "WARNING: No boxtype specified - distance condition applied in each dimension.\n",
      "If the molecule rotates the actual distance will be smaller. You might want\n",
      "to use a cubic box instead, or why not try a dodecahedron today?\n",
      "\n"
     ]
    }
   ],
   "source": [
    "run.moldyn_notebook_run(\"editconf2\")"
   ]
  },
  {
   "cell_type": "code",
   "execution_count": 61,
   "id": "971cff4a",
   "metadata": {},
   "outputs": [
    {
     "name": "stdout",
     "output_type": "stream",
     "text": [
      "LigandInit : set_protein_size2.\n",
      "Running the following command\n",
      "{'command': 'set_protein_size', 'options': {'src': 'proteinopls.pdb', 'dir': 'z'}}\n",
      "\n",
      "========================INFO============================\n",
      "\n",
      "Python function (gromacs.py)\n",
      " Get the protein maximum length from a pdb file (in z direction)\n",
      "\n",
      "========================INFO END========================\n",
      "\n"
     ]
    }
   ],
   "source": [
    "run.moldyn_notebook_run(\"set_protein_size2\")"
   ]
  },
  {
   "attachments": {},
   "cell_type": "markdown",
   "id": "c44f71e8",
   "metadata": {},
   "source": [
    "Now, the protein-ligand complex is essembled and positioned for insertion within the membrane. \\\n",
    "Open the proteinopls.pdb file in PyMOL to see what the complex looks like."
   ]
  },
  {
   "attachments": {},
   "cell_type": "markdown",
   "id": "659ec346",
   "metadata": {},
   "source": [
    "#### Embed Complex within Membrane"
   ]
  },
  {
   "cell_type": "code",
   "execution_count": 62,
   "id": "146145d9",
   "metadata": {},
   "outputs": [
    {
     "name": "stdout",
     "output_type": "stream",
     "text": [
      "LigandInit : set_popc.\n",
      "Running the following command\n",
      "{'command': 'set_popc', 'options': {'tgt': 'popc.pdb'}}\n",
      "\n",
      "========================INFO============================\n",
      "\n",
      "Python function (gromacs.py)\n",
      " Create a pdb file only with the lipid bilayer (POPC), no waters. \n",
      "Set some measures on the fly (height of the bilayer)\n",
      "\n",
      " != Have a look in PyMOL to see what this .pdb file looks like =!\n",
      "\n",
      "========================INFO END========================\n",
      "\n"
     ]
    }
   ],
   "source": [
    "run.moldyn_notebook_run(\"set_popc\")"
   ]
  },
  {
   "cell_type": "code",
   "execution_count": 63,
   "id": "8c807c53",
   "metadata": {},
   "outputs": [
    {
     "name": "stdout",
     "output_type": "stream",
     "text": [
      "LigandInit : editconf3.\n",
      "Running the following command\n",
      "{'gromacs': 'editconf', 'options': {'src': 'proteinopls.pdb', 'tgt': 'proteinopls.pdb', 'box': ['9.7594', '9.7594', '6.42'], 'angles': ['90', '90', '120'], 'bt': 'tric'}}\n",
      "\n",
      "========================INFO============================\n",
      "\n",
      "GROMACS command\n",
      " Adjust the box size of the system to take into consideration the POPC bilayer\n",
      "\n",
      "========================INFO END========================\n",
      "\n",
      "Note that major changes are planned in future for editconf, to improve usability and utility.Read 4816 atoms\n",
      "Volume: 386.678 nm^3, corresponds to roughly 174000 electrons\n",
      "No velocities found\n",
      "    system size :  4.440  5.759  7.098 (nm)\n",
      "    center      :  3.020  3.680  4.349 (nm)\n",
      "    box vectors :  6.041  7.359  8.698 (nm)\n",
      "    box angles  :  90.00  90.00  90.00 (degrees)\n",
      "    box volume  : 386.68               (nm^3)\n",
      "    shift       : -0.580  0.546 -1.139 (nm)\n",
      "new center      :  2.440  4.226  3.210 (nm)\n",
      "new box vectors :  9.759  9.759  6.420 (nm)\n",
      "new box angles  :  90.00  90.00 120.00 (degrees)\n",
      "new box volume  : 529.56               (nm^3)\n",
      "\n"
     ]
    }
   ],
   "source": [
    "run.moldyn_notebook_run(\"editconf3\")"
   ]
  },
  {
   "cell_type": "code",
   "execution_count": 64,
   "id": "3bc36bfc",
   "metadata": {},
   "outputs": [
    {
     "name": "stdout",
     "output_type": "stream",
     "text": [
      "LigandInit : make_ndx_lig.\n",
      "Running the following command\n",
      "{'gromacs': 'make_ndx', 'options': {'src': 'E3R.pdb', 'tgt': 'ligand_ha.ndx', 'ligand': True}, 'input': '! a H*\\nq\\n'}\n",
      "\n",
      "========================INFO============================\n",
      "\n",
      "GROMACS command\n",
      " Generate ndx file for the ligand\n",
      "\n",
      "========================INFO END========================\n",
      "\n",
      "Going to read 0 old index file(s)\n",
      "Analysing residue names:\n",
      "There are:     1      Other residues\n",
      "Analysing residues not classified as Protein/DNA/RNA/Water and splitting into groups...\n",
      "\n",
      "  0 System              :    58 atoms\n",
      "  1 Other               :    58 atoms\n",
      "  2 LIG                 :    58 atoms\n",
      "\n",
      " nr : group      '!': not  'name' nr name   'splitch' nr    Enter: list groups\n",
      " 'a': atom       '&': and  'del' nr         'splitres' nr   'l': list residues\n",
      " 't': atom type  '|': or   'keep' nr        'splitat' nr    'h': help\n",
      " 'r': residue              'res' nr         'chain' char\n",
      " \"name\": group             'case': case sensitive           'q': save and quit\n",
      " 'ri': residue index\n",
      "\n",
      "> \n",
      "Found 25 atoms with name H*\n",
      "Complemented group: 33 atoms\n",
      "\n",
      "  3 !H*                 :    33 atoms\n",
      "\n",
      "> \n",
      "\n"
     ]
    }
   ],
   "source": [
    "run.moldyn_notebook_run(\"make_ndx_lig\")"
   ]
  },
  {
   "cell_type": "code",
   "execution_count": 65,
   "id": "ab44770b",
   "metadata": {},
   "outputs": [
    {
     "name": "stdout",
     "output_type": "stream",
     "text": [
      "LigandInit : genrestr_lig.\n",
      "Running the following command\n",
      "{'gromacs': 'genrestr', 'options': {'src': 'E3R.pdb', 'tgt': 'posre_lig.itp', 'index': 'ligand_ha.ndx', 'forces': ['1000', '1000', '1000']}, 'input': '2\\n'}\n",
      "\n",
      "========================INFO============================\n",
      "\n",
      "GROMACS command\n",
      " Add positional restrains for the ligand\n",
      "\n",
      "========================INFO END========================\n",
      "\n",
      "Select group to position restrain\n",
      "Selected 2: 'LIG'\n",
      "\n"
     ]
    }
   ],
   "source": [
    "run.moldyn_notebook_run(\"genrestr_lig\")"
   ]
  },
  {
   "cell_type": "code",
   "execution_count": 66,
   "id": "6973ac8d",
   "metadata": {},
   "outputs": [
    {
     "name": "stdout",
     "output_type": "stream",
     "text": [
      "LigandInit : editconf4.\n",
      "Running the following command\n",
      "{'gromacs': 'editconf', 'options': {'src': 'popc.pdb', 'tgt': 'popc.gro', 'box': ['6.1842', '6.1842', '6.42']}}\n",
      "\n",
      "========================INFO============================\n",
      "\n",
      "GROMACS command\n",
      " Create .gro file of the lipid bilayer\n",
      "\n",
      "========================INFO END========================\n",
      "\n",
      "Note that major changes are planned in future for editconf, to improve usability and utility.Read 6656 atoms\n",
      "No velocities found\n",
      "    system size :  7.786  8.618  5.778 (nm)\n",
      "    center      :  3.322  3.129  7.639 (nm)\n",
      "    box vectors :  0.000  0.000  0.000 (nm)\n",
      "    box angles  :   0.00   0.00   0.00 (degrees)\n",
      "    box volume  :   0.00               (nm^3)\n",
      "    shift       : -0.230 -0.037 -4.429 (nm)\n",
      "new center      :  3.092  3.092  3.210 (nm)\n",
      "new box vectors :  6.184  6.184  6.420 (nm)\n",
      "new box angles  :  90.00  90.00  90.00 (degrees)\n",
      "new box volume  : 245.53               (nm^3)\n",
      "\n"
     ]
    }
   ],
   "source": [
    "run.moldyn_notebook_run(\"editconf4\")"
   ]
  },
  {
   "cell_type": "code",
   "execution_count": 67,
   "id": "b4c3dee0",
   "metadata": {},
   "outputs": [
    {
     "name": "stdout",
     "output_type": "stream",
     "text": [
      "LigandInit : make_topol.\n",
      "Running the following command\n",
      "{'command': 'make_topol', 'options': {'complex': <protein.ProteinComplex object at 0x7fc16059a8b0>}}\n",
      "\n",
      "========================INFO============================\n",
      "\n",
      "Python function (gromacs.py)\n",
      " Add lipid positions to topol.top\n",
      "\n",
      "========================INFO END========================\n",
      "\n"
     ]
    }
   ],
   "source": [
    "run.moldyn_notebook_run(\"make_topol\")"
   ]
  },
  {
   "cell_type": "code",
   "execution_count": 68,
   "id": "1d5cb1cf",
   "metadata": {},
   "outputs": [
    {
     "name": "stdout",
     "output_type": "stream",
     "text": [
      "LigandInit : editconf5.\n",
      "Running the following command\n",
      "{'gromacs': 'editconf', 'options': {'src': 'proteinopls.pdb', 'tgt': 'proteinopls.pdb', 'translate': ['0', '0', '0']}}\n",
      "\n",
      "========================INFO============================\n",
      "\n",
      "GROMACS command\n",
      " Check if any adjustments need to be made with the new lipids added\n",
      "\n",
      "========================INFO END========================\n",
      "\n",
      "Note that major changes are planned in future for editconf, to improve usability and utility.Read 4816 atoms\n",
      "Volume: 529.556 nm^3, corresponds to roughly 238300 electrons\n",
      "No velocities found\n",
      "Translating 4816 atoms (out of 4816) by 0 0 0 nm\n",
      "\n"
     ]
    }
   ],
   "source": [
    "run.moldyn_notebook_run(\"editconf5\")"
   ]
  },
  {
   "cell_type": "code",
   "execution_count": 69,
   "id": "adea7c61",
   "metadata": {},
   "outputs": [
    {
     "name": "stdout",
     "output_type": "stream",
     "text": [
      "LigandInit : solvate.\n",
      "Running the following command\n",
      "{'gromacs': 'solvate', 'options': {'cp': 'proteinopls.pdb', 'cs': 'popc.gro', 'tgt': 'protpopc.pdb', 'top': 'topol.top'}}\n",
      "\n",
      "========================INFO============================\n",
      "\n",
      "GROMACS command\n",
      " Insert the protein-ligand complex into the lipid bilayer and \n",
      "adding POP definitions in the topol.top file\n",
      "\n",
      " != Have a look in PyMOL to see what this .pdb file looks like =!\"\n",
      "\n",
      "========================INFO END========================\n",
      "\n",
      "\n",
      "WARNING: Masses and atomic (Van der Waals) radii will be guessed\n",
      "         based on residue and atom names, since they could not be\n",
      "         definitively assigned from the information in your input\n",
      "         files. These guessed numbers might deviate from the mass\n",
      "         and radius of the atom type. Please check the output\n",
      "         files if necessary.\n",
      "\n",
      "NOTE: From version 5.0 gmx solvate uses the Van der Waals radii\n",
      "from the source below. This means the results may be different\n",
      "compared to previous GROMACS versions.\n",
      "\n",
      "++++ PLEASE READ AND CITE THE FOLLOWING REFERENCE ++++\n",
      "A. Bondi\n",
      "van der Waals Volumes and Radii\n",
      "J. Phys. Chem. 68 (1964) pp. 441-451\n",
      "-------- -------- --- Thank You --- -------- --------\n",
      "\n",
      "Adding line for 163 solvent molecules with resname (POP) to topology file (/home/remco/apps/pymemdyn-teaching/notebook/rundir/topol.top)\n",
      "\n"
     ]
    }
   ],
   "source": [
    "run.moldyn_notebook_run(\"solvate\")"
   ]
  },
  {
   "attachments": {},
   "cell_type": "markdown",
   "id": "92335ef5",
   "metadata": {},
   "source": [
    "Now, the protein-ligand complex is embedded within the lipid bilayer. \\\n",
    "Open the protpopc.pdb file in PyMOL to see what the system now looks like."
   ]
  },
  {
   "attachments": {},
   "cell_type": "markdown",
   "id": "27165308",
   "metadata": {},
   "source": [
    "#### Solvate Protein-Membrane System with Waters"
   ]
  },
  {
   "cell_type": "code",
   "execution_count": 70,
   "id": "2775a4ef",
   "metadata": {},
   "outputs": [
    {
     "name": "stdout",
     "output_type": "stream",
     "text": [
      "LigandInit : set_water.\n",
      "Running the following command\n",
      "{'command': 'set_water', 'options': {'tgt': 'water.pdb'}}\n",
      "\n",
      "========================INFO============================\n",
      "\n",
      "Python function (gromacs.py)\n",
      " Create a water layer for a box \n",
      "\n",
      "!= Have a look in PyMOL to see what this .pdb file looks like =!\n",
      "\n",
      "========================INFO END========================\n",
      "\n"
     ]
    }
   ],
   "source": [
    "run.moldyn_notebook_run(\"set_water\")"
   ]
  },
  {
   "cell_type": "code",
   "execution_count": 71,
   "id": "50d3f672",
   "metadata": {},
   "outputs": [
    {
     "name": "stdout",
     "output_type": "stream",
     "text": [
      "LigandInit : editconf6.\n",
      "Running the following command\n",
      "{'gromacs': 'editconf', 'options': {'src': 'water.pdb', 'tgt': 'water.gro', 'box': ['6.1842', '6.1842', '8.6983']}}\n",
      "\n",
      "========================INFO============================\n",
      "\n",
      "GROMACS command\n",
      " Create a box for the water molecules\n",
      "\n",
      "========================INFO END========================\n",
      "\n",
      "Note that major changes are planned in future for editconf, to improve usability and utility.Read 18009 atoms\n",
      "No velocities found\n",
      "    system size :  6.324  6.325  8.867 (nm)\n",
      "    center      :  3.058  3.062  7.753 (nm)\n",
      "    box vectors :  0.000  0.000  0.000 (nm)\n",
      "    box angles  :   0.00   0.00   0.00 (degrees)\n",
      "    box volume  :   0.00               (nm^3)\n",
      "    shift       :  0.034  0.030 -3.404 (nm)\n",
      "new center      :  3.092  3.092  4.349 (nm)\n",
      "new box vectors :  6.184  6.184  8.698 (nm)\n",
      "new box angles  :  90.00  90.00  90.00 (degrees)\n",
      "new box volume  : 332.66               (nm^3)\n",
      "\n"
     ]
    }
   ],
   "source": [
    "run.moldyn_notebook_run(\"editconf6\")"
   ]
  },
  {
   "cell_type": "code",
   "execution_count": 72,
   "id": "0b909974",
   "metadata": {},
   "outputs": [
    {
     "name": "stdout",
     "output_type": "stream",
     "text": [
      "LigandInit : editconf7.\n",
      "Running the following command\n",
      "{'gromacs': 'editconf', 'options': {'src': 'protpopc.pdb', 'tgt': 'protpopc.pdb', 'box': ['9.7594', '9.7594', '8.6983'], 'angles': ['90', '90', '120'], 'bt': 'tric'}}\n",
      "\n",
      "========================INFO============================\n",
      "\n",
      "GROMACS command\n",
      " Adjust the protein/POPC box for the waters\n",
      "\n",
      "========================INFO END========================\n",
      "\n",
      "Note that major changes are planned in future for editconf, to improve usability and utility.Read 13292 atoms\n",
      "Volume: 529.556 nm^3, corresponds to roughly 238300 electrons\n",
      "No velocities found\n",
      "    system size : 10.192 11.294  7.098 (nm)\n",
      "    center      :  3.993  4.247  3.261 (nm)\n",
      "    box vectors :  9.759  9.759  6.420 (nm)\n",
      "    box angles  :  90.00  90.00 120.00 (degrees)\n",
      "    box volume  : 529.56               (nm^3)\n",
      "    shift       : -1.553 -0.021  1.088 (nm)\n",
      "new center      :  2.440  4.226  4.349 (nm)\n",
      "new box vectors :  9.759  9.759  8.698 (nm)\n",
      "new box angles  :  90.00  90.00 120.00 (degrees)\n",
      "new box volume  : 717.48               (nm^3)\n",
      "\n"
     ]
    }
   ],
   "source": [
    "run.moldyn_notebook_run(\"editconf7\")"
   ]
  },
  {
   "cell_type": "code",
   "execution_count": 73,
   "id": "cc50da17",
   "metadata": {},
   "outputs": [
    {
     "name": "stdout",
     "output_type": "stream",
     "text": [
      "LigandInit : solvate2.\n",
      "Running the following command\n",
      "{'gromacs': 'solvate', 'options': {'cp': 'protpopc.pdb', 'cs': 'water.gro', 'tgt': 'tmp.pdb', 'top': 'topol.top'}}\n",
      "\n",
      "========================INFO============================\n",
      "\n",
      "GROMACS command\n",
      " Solvate the protein/POPC box with the box of waters\n",
      "\n",
      " != Have a look in PyMOL to see what this .pdb file looks like =!\"\n",
      "\n",
      "========================INFO END========================\n",
      "\n",
      "\n",
      "WARNING: Masses and atomic (Van der Waals) radii will be guessed\n",
      "         based on residue and atom names, since they could not be\n",
      "         definitively assigned from the information in your input\n",
      "         files. These guessed numbers might deviate from the mass\n",
      "         and radius of the atom type. Please check the output\n",
      "         files if necessary.\n",
      "\n",
      "NOTE: From version 5.0 gmx solvate uses the Van der Waals radii\n",
      "from the source below. This means the results may be different\n",
      "compared to previous GROMACS versions.\n",
      "\n",
      "++++ PLEASE READ AND CITE THE FOLLOWING REFERENCE ++++\n",
      "A. Bondi\n",
      "van der Waals Volumes and Radii\n",
      "J. Phys. Chem. 68 (1964) pp. 441-451\n",
      "-------- -------- --- Thank You --- -------- --------\n",
      "\n",
      "Adding line for 11363 solvent molecules with resname (SOL) to topology file (/home/remco/apps/pymemdyn-teaching/notebook/rundir/topol.top)\n",
      "\n"
     ]
    }
   ],
   "source": [
    "run.moldyn_notebook_run(\"solvate2\")"
   ]
  },
  {
   "attachments": {},
   "cell_type": "markdown",
   "id": "f25e1d00",
   "metadata": {},
   "source": [
    "Now, the protein-membrane system is solvated with waters. \\\n",
    "Open the tmp.pdb file in PyMOL to see what the complex now looks like."
   ]
  },
  {
   "attachments": {},
   "cell_type": "markdown",
   "id": "1c143fbf",
   "metadata": {},
   "source": [
    "#### Prepare MD (1)"
   ]
  },
  {
   "cell_type": "code",
   "execution_count": 74,
   "id": "32bac569",
   "metadata": {},
   "outputs": [
    {
     "name": "stdout",
     "output_type": "stream",
     "text": [
      "LigandInit : count_lipids.\n",
      "Running the following command\n",
      "{'command': 'count_lipids', 'options': {'src': 'tmp.pdb', 'tgt': 'popc.pdb'}}\n",
      "\n",
      "========================INFO============================\n",
      "\n",
      "Python function (gromacs.py)\n",
      " Counts the lipids in popc and makes atom tags (N4) for bookkeeping\n",
      "\n",
      "========================INFO END========================\n",
      "\n"
     ]
    }
   ],
   "source": [
    "run.moldyn_notebook_run(\"count_lipids\")"
   ]
  },
  {
   "cell_type": "code",
   "execution_count": 75,
   "id": "e054e416",
   "metadata": {},
   "outputs": [
    {
     "name": "stdout",
     "output_type": "stream",
     "text": [
      "LigandInit : make_topol2.\n",
      "Running the following command\n",
      "{'command': 'make_topol', 'options': {'complex': <protein.ProteinComplex object at 0x7fc16059a8b0>}}\n",
      "\n",
      "========================INFO============================\n",
      "\n",
      "Python function (utils.py)\n",
      " Adjust the old topol.top file with the new topology\n",
      "\n",
      "========================INFO END========================\n",
      "\n"
     ]
    }
   ],
   "source": [
    "run.moldyn_notebook_run(\"make_topol2\")"
   ]
  },
  {
   "cell_type": "code",
   "execution_count": 76,
   "id": "c7424608",
   "metadata": {},
   "outputs": [
    {
     "name": "stdout",
     "output_type": "stream",
     "text": [
      "LigandInit : make_topol_lipids.\n",
      "Running the following command\n",
      "{'command': 'make_topol_lipids'}\n",
      "\n",
      "========================INFO============================\n",
      "\n",
      "Python function (gromacs.py)\n",
      " Add lipid positions to topol.top\n",
      "\n",
      "========================INFO END========================\n",
      "\n"
     ]
    }
   ],
   "source": [
    "run.moldyn_notebook_run(\"make_topol_lipids\")"
   ]
  },
  {
   "cell_type": "code",
   "execution_count": 77,
   "id": "68fc876b",
   "metadata": {},
   "outputs": [
    {
     "name": "stdout",
     "output_type": "stream",
     "text": [
      "LigandInit : make_ffoplsaanb.\n",
      "Running the following command\n",
      "{'command': 'make_ffoplsaanb', 'options': {'complex': <protein.ProteinComplex object at 0x7fc16059a8b0>}}\n",
      "\n",
      "========================INFO============================\n",
      "\n",
      "Python function (utils.py)\n",
      " Join all OPLS force fields needed to run the simulation\n",
      "\n",
      "========================INFO END========================\n",
      "\n"
     ]
    }
   ],
   "source": [
    "run.moldyn_notebook_run(\"make_ffoplsaanb\")"
   ]
  },
  {
   "cell_type": "code",
   "execution_count": 78,
   "id": "ea7d1b60",
   "metadata": {},
   "outputs": [
    {
     "name": "stdout",
     "output_type": "stream",
     "text": [
      "LigandInit : set_grompp.\n",
      "Running the following command\n",
      "{'command': 'set_grompp', 'options': {'steep.mdp': 'steep.mdp', 'popc.itp': 'popc.itp', 'spc.itp': 'spc.itp', 'ions.itp': 'ions.itp', 'ffoplsaabon_mod.itp': 'ffoplsaabon_mod.itp', 'ffoplsaa_mod.itp': 'ffoplsaa_mod.itp'}}\n",
      "\n",
      "========================INFO============================\n",
      "\n",
      "Python function (gromacs.py)\n",
      " Copy template files in templates folder to working dir\n",
      "\n",
      "========================INFO END========================\n",
      "\n"
     ]
    }
   ],
   "source": [
    "run.moldyn_notebook_run(\"set_grompp\")"
   ]
  },
  {
   "cell_type": "code",
   "execution_count": 79,
   "id": "bfdb97f4",
   "metadata": {},
   "outputs": [
    {
     "name": "stdout",
     "output_type": "stream",
     "text": [
      "LigandInit : set_chains.\n",
      "Running the following command\n",
      "{'command': 'set_chains', 'options': {'src': 'proteinopls.pdb'}}\n",
      "\n",
      "========================INFO============================\n",
      "\n",
      "Python function (gromacs.py)\n",
      " If we are dealing with a GPCR dimer we need to correct atom numbering after protonation\n",
      "\n",
      "========================INFO END========================\n",
      "\n"
     ]
    }
   ],
   "source": [
    "run.moldyn_notebook_run(\"set_chains\")"
   ]
  },
  {
   "cell_type": "code",
   "execution_count": 80,
   "id": "4298de72",
   "metadata": {},
   "outputs": [
    {
     "name": "stdout",
     "output_type": "stream",
     "text": [
      "LigandInit : make_ndx.\n",
      "Running the following command\n",
      "{'command': 'make_ndx', 'options': {'src': 'tmp.pdb', 'tgt': 'index.ndx'}}\n",
      "\n",
      "========================INFO============================\n",
      "\n",
      "GROMACS command\n",
      " Make GROMACS index file, which is useful for bookkeeping (which atom is what)\n",
      "\n",
      "========================INFO END========================\n",
      "\n",
      "Going to read 0 old index file(s)\n",
      "Analysing residue names:\n",
      "There are:   299    Protein residues\n",
      "There are:   164      Other residues\n",
      "There are: 11363      Water residues\n",
      "Analysing Protein...\n",
      "Analysing residues not classified as Protein/DNA/RNA/Water and splitting into groups...\n",
      "\n",
      "  0 System              : 47381 atoms\n",
      "  1 Protein             :  4758 atoms\n",
      "  2 Protein-H           :  2327 atoms\n",
      "  3 C-alpha             :   299 atoms\n",
      "  4 Backbone            :   897 atoms\n",
      "  5 MainChain           :  1197 atoms\n",
      "  6 MainChain+Cb        :  1480 atoms\n",
      "  7 MainChain+H         :  1485 atoms\n",
      "  8 SideChain           :  3273 atoms\n",
      "  9 SideChain-H         :  1130 atoms\n",
      " 10 Prot-Masses         :  4758 atoms\n",
      " 11 non-Protein         : 42623 atoms\n",
      " 12 Other               :  8534 atoms\n",
      " 13 LIG                 :    58 atoms\n",
      " 14 POP                 :  8476 atoms\n",
      " 15 Water               : 34089 atoms\n",
      " 16 SOL                 : 34089 atoms\n",
      " 17 non-Water           : 13292 atoms\n",
      "\n",
      " nr : group      '!': not  'name' nr name   'splitch' nr    Enter: list groups\n",
      " 'a': atom       '&': and  'del' nr         'splitres' nr   'l': list residues\n",
      " 't': atom type  '|': or   'keep' nr        'splitat' nr    'h': help\n",
      " 'r': residue              'res' nr         'chain' char\n",
      " \"name\": group             'case': case sensitive           'q': save and quit\n",
      " 'ri': residue index\n",
      "\n",
      "> \n",
      "\n"
     ]
    }
   ],
   "source": [
    "run.moldyn_notebook_run(\"make_ndx\")"
   ]
  },
  {
   "cell_type": "code",
   "execution_count": 81,
   "id": "a2a7a0a8",
   "metadata": {},
   "outputs": [
    {
     "name": "stdout",
     "output_type": "stream",
     "text": [
      "LigandInit : grompp.\n",
      "Running the following command\n",
      "{'gromacs': 'grompp', 'options': {'src': 'steep.mdp', 'src2': 'tmp.pdb', 'tgt': 'topol.tpr', 'top': 'topol.top', 'index': 'index.ndx'}}\n",
      "\n",
      "========================INFO============================\n",
      "\n",
      "GROMACS command\n",
      " gmx grompp (the gromacs preprocessor) reads a molecular topology file, checks the validity of the file, expands the topology from a molecular description to an atomic description.\n",
      "\n",
      "========================INFO END========================\n",
      "\n",
      "\n",
      "++++ PLEASE READ AND CITE THE FOLLOWING REFERENCE ++++\n",
      "J. S. Hub, B. L. de Groot, H. Grubmueller, G. Groenhof\n",
      "Quantifying Artifacts in Ewald Simulations of Inhomogeneous Systems with a Net\n",
      "Charge\n",
      "J. Chem. Theory Comput. 10 (2014) pp. 381-393\n",
      "-------- -------- --- Thank You --- -------- --------\n",
      "\n",
      "Calculating fourier grid dimensions for X Y Z\n",
      "Using a fourier grid of 84x84x80, spacing 0.116 0.116 0.109\n",
      "This run will generate roughly 4 Mb of data\n",
      "\n"
     ]
    }
   ],
   "source": [
    "run.moldyn_notebook_run(\"grompp\")"
   ]
  },
  {
   "cell_type": "code",
   "execution_count": 82,
   "id": "48c863cf",
   "metadata": {},
   "outputs": [
    {
     "name": "stdout",
     "output_type": "stream",
     "text": [
      "LigandInit : trjconv.\n",
      "Running the following command\n",
      "{'gromacs': 'trjconv', 'options': {'src': 'tmp.pdb', 'src2': 'topol.tpr', 'tgt': 'tmp.pdb', 'pbc': 'mol', 'index': 'index.ndx'}, 'input': '1\\n0\\n'}\n",
      "\n",
      "========================INFO============================\n",
      "\n",
      "GROMACS command\n",
      " Can convert trajectory files, in this case is used to make a new topology file based on tmp.pdb and topol.tpr\n",
      "\n",
      "========================INFO END========================\n",
      "\n",
      "Note that major changes are planned in future for trjconv, to improve usability and utility.\n",
      "Select group for centering\n",
      "Selected 1: 'Protein'\n",
      "Select group for output\n",
      "Selected 0: 'System'\n",
      "\n"
     ]
    }
   ],
   "source": [
    "run.moldyn_notebook_run(\"trjconv\")"
   ]
  },
  {
   "attachments": {},
   "cell_type": "markdown",
   "id": "cc1c3632",
   "metadata": {},
   "source": [
    "#### Add Ions to System\n"
   ]
  },
  {
   "cell_type": "code",
   "execution_count": 83,
   "id": "f0fd9a37",
   "metadata": {},
   "outputs": [
    {
     "name": "stdout",
     "output_type": "stream",
     "text": [
      "LigandInit : get_charge.\n",
      "Running the following command\n",
      "{'command': 'get_charge', 'options': {'src': 'steep.mdp', 'src2': 'tmp.pdb', 'tgt': 'topol.tpr', 'top': 'topol.top', 'index': 'index.ndx'}}\n",
      "\n",
      "========================INFO============================\n",
      "\n",
      "Python function (gromacs.py)\n",
      " Gets the total charge of a system using gromacs grompp command \n",
      "\n",
      "========================INFO END========================\n",
      "\n"
     ]
    }
   ],
   "source": [
    "run.moldyn_notebook_run(\"get_charge\")"
   ]
  },
  {
   "cell_type": "code",
   "execution_count": 84,
   "id": "c4cc4ce7",
   "metadata": {},
   "outputs": [
    {
     "name": "stdout",
     "output_type": "stream",
     "text": [
      "LigandInit : genion.\n",
      "Running the following command\n",
      "{'gromacs': 'genion', 'options': {'src': 'topol.tpr', 'tgt': 'output.pdb', 'src2': 'topol.top', 'index': 'index.ndx', 'np': 0, 'nn': 14}, 'input': ' SOL \\n'}\n",
      "\n",
      "========================INFO============================\n",
      "\n",
      "GROMACS command\n",
      " Randomly replaces solvent molecules with monoatomic ions.\n",
      "\n",
      "========================INFO END========================\n",
      "\n",
      "Will try to add 0 NA+ ions and 14 CL- ions.\n",
      "Select a continuous group of solvent molecules\n",
      "Selected 17: 'SOL'\n",
      "\n",
      "Processing topology\n",
      "Replacing 14 solute molecules in topology file (/home/remco/apps/pymemdyn-teaching/notebook/rundir/topol.top)  by 0 NA+ and 14 CL- ions.\n",
      "\n"
     ]
    }
   ],
   "source": [
    "run.moldyn_notebook_run(\"genion\")"
   ]
  },
  {
   "attachments": {},
   "cell_type": "markdown",
   "id": "a8d87353",
   "metadata": {},
   "source": [
    "Now, the complex is made neutral in charge by adding ions. \\\n",
    "Open the output.pdb file in PyMOL to see what the system now looks like."
   ]
  },
  {
   "attachments": {},
   "cell_type": "markdown",
   "id": "03b06ef8",
   "metadata": {},
   "source": [
    "#### Prepare MD (2)"
   ]
  },
  {
   "cell_type": "code",
   "execution_count": 85,
   "id": "8ba848e0",
   "metadata": {},
   "outputs": [
    {
     "name": "stdout",
     "output_type": "stream",
     "text": [
      "LigandInit : grompp2.\n",
      "Running the following command\n",
      "{'gromacs': 'grompp', 'options': {'src': 'steep.mdp', 'src2': 'output.pdb', 'tgt': 'topol.tpr', 'top': 'topol.top'}}\n",
      "\n",
      "========================INFO============================\n",
      "\n",
      "GROMACS command\n",
      " gmx grompp (the gromacs preprocessor) reads a molecular topology file, checks the validity of the file, expands the topology from a molecular description to an atomic description.\n",
      "\n",
      "========================INFO END========================\n",
      "\n",
      "\n",
      "++++ PLEASE READ AND CITE THE FOLLOWING REFERENCE ++++\n",
      "J. S. Hub, B. L. de Groot, H. Grubmueller, G. Groenhof\n",
      "Quantifying Artifacts in Ewald Simulations of Inhomogeneous Systems with a Net\n",
      "Charge\n",
      "J. Chem. Theory Comput. 10 (2014) pp. 381-393\n",
      "-------- -------- --- Thank You --- -------- --------\n",
      "\n",
      "Analysing residue names:\n",
      "There are:   299    Protein residues\n",
      "There are:   164      Other residues\n",
      "There are: 11349      Water residues\n",
      "There are:    14        Ion residues\n",
      "Analysing Protein...\n",
      "Analysing residues not classified as Protein/DNA/RNA/Water and splitting into groups...\n",
      "Analysing residues not classified as Protein/DNA/RNA/Water and splitting into groups...\n",
      "Calculating fourier grid dimensions for X Y Z\n",
      "Using a fourier grid of 84x84x80, spacing 0.116 0.116 0.109\n",
      "This run will generate roughly 4 Mb of data\n",
      "\n"
     ]
    }
   ],
   "source": [
    "run.moldyn_notebook_run(\"grompp2\")"
   ]
  },
  {
   "cell_type": "code",
   "execution_count": 86,
   "id": "e1497a9b",
   "metadata": {},
   "outputs": [
    {
     "name": "stdout",
     "output_type": "stream",
     "text": [
      "LigandInit : trjconv2.\n",
      "Running the following command\n",
      "{'gromacs': 'trjconv', 'options': {'src': 'output.pdb', 'src2': 'topol.tpr', 'tgt': 'output.pdb', 'trans': [0, 0, 0], 'pbc': 'mol'}, 'input': '0\\n'}\n",
      "\n",
      "========================INFO============================\n",
      "\n",
      "GROMACS command\n",
      " Can convert trajectory files, in this case is used to make a new topology file based on putput.pdb and topol.tpr\n",
      "\n",
      "========================INFO END========================\n",
      "\n",
      "Note that major changes are planned in future for trjconv, to improve usability and utility.\n",
      "Select group for output\n",
      "Selected 0: 'System'\n",
      "\n"
     ]
    }
   ],
   "source": [
    "run.moldyn_notebook_run(\"trjconv2\")"
   ]
  },
  {
   "cell_type": "code",
   "execution_count": 87,
   "id": "b1e8d2a5",
   "metadata": {},
   "outputs": [
    {
     "name": "stdout",
     "output_type": "stream",
     "text": [
      "LigandInit : grompp3.\n",
      "Running the following command\n",
      "{'gromacs': 'grompp', 'options': {'src': 'steep.mdp', 'src2': 'output.pdb', 'tgt': 'topol.tpr', 'top': 'topol.top'}}\n",
      "\n",
      "========================INFO============================\n",
      "\n",
      "GROMACS command\n",
      " gmx grompp (the gromacs preprocessor)\n",
      "\n",
      "========================INFO END========================\n",
      "\n",
      "\n",
      "++++ PLEASE READ AND CITE THE FOLLOWING REFERENCE ++++\n",
      "J. S. Hub, B. L. de Groot, H. Grubmueller, G. Groenhof\n",
      "Quantifying Artifacts in Ewald Simulations of Inhomogeneous Systems with a Net\n",
      "Charge\n",
      "J. Chem. Theory Comput. 10 (2014) pp. 381-393\n",
      "-------- -------- --- Thank You --- -------- --------\n",
      "\n",
      "Analysing residue names:\n",
      "There are:   299    Protein residues\n",
      "There are:   164      Other residues\n",
      "There are: 11349      Water residues\n",
      "There are:    14        Ion residues\n",
      "Analysing Protein...\n",
      "Analysing residues not classified as Protein/DNA/RNA/Water and splitting into groups...\n",
      "Analysing residues not classified as Protein/DNA/RNA/Water and splitting into groups...\n",
      "Calculating fourier grid dimensions for X Y Z\n",
      "Using a fourier grid of 84x84x80, spacing 0.116 0.116 0.109\n",
      "This run will generate roughly 4 Mb of data\n",
      "\n"
     ]
    }
   ],
   "source": [
    "run.moldyn_notebook_run(\"grompp3\")"
   ]
  },
  {
   "cell_type": "code",
   "execution_count": 88,
   "id": "4a27b727",
   "metadata": {},
   "outputs": [
    {
     "name": "stdout",
     "output_type": "stream",
     "text": [
      "LigandInit : trjconv3.\n",
      "Running the following command\n",
      "{'gromacs': 'trjconv', 'options': {'src': 'output.pdb', 'src2': 'topol.tpr', 'tgt': 'hexagon.pdb', 'ur': 'compact', 'pbc': 'mol'}, 'input': '1\\n0\\n'}\n",
      "\n",
      "========================INFO============================\n",
      "\n",
      "GROMACS command\n",
      " Can convert trajectory files, in this case creates hexagon.pdb, which contains the whole system for further refinement\n",
      "\n",
      "========================INFO END========================\n",
      "\n",
      "Note that major changes are planned in future for trjconv, to improve usability and utility.\n",
      "Select group for centering\n",
      "Selected 1: 'Protein'\n",
      "Select group for output\n",
      "Selected 0: 'System'\n",
      "\n"
     ]
    }
   ],
   "source": [
    "run.moldyn_notebook_run(\"trjconv3\")"
   ]
  },
  {
   "cell_type": "code",
   "execution_count": 89,
   "id": "8eb44178",
   "metadata": {},
   "outputs": [
    {
     "name": "stdout",
     "output_type": "stream",
     "text": [
      "LigandInit : clean_pdb.\n",
      "Running the following command\n",
      "{'command': 'clean_pdb', 'options': {'src': 'hexagon.pdb', 'tgt': 'hexagon.pdb'}}\n",
      "\n",
      "========================INFO============================\n",
      "\n",
      "Python function\n",
      " Remove incorrectly allocated atom identifiers in pdb file\n",
      "\n",
      " != Have a look in PyMOL to see what this .pdb file looks like =!\"\n",
      "\n",
      "========================INFO END========================\n",
      "\n"
     ]
    }
   ],
   "source": [
    "run.moldyn_notebook_run(\"clean_pdb\")"
   ]
  },
  {
   "attachments": {},
   "cell_type": "markdown",
   "id": "026d4808",
   "metadata": {},
   "source": [
    "The final system for MD simulation has now been created. The system has now been converted into an hexagonal shape. \\\n",
    "Open the hexagon.pdb file in PyMOL to see what the system now looks like."
   ]
  },
  {
   "attachments": {},
   "cell_type": "markdown",
   "id": "55a3b1f0-3d15-436d-abb2-f224f1226498",
   "metadata": {},
   "source": [
    "### MD Simulation\n",
    "\n",
    "**After** you have completed all steps above, you would normally start running the MD simulation within PyMemDyn. However it takes a few hours to complete on a pretty large cluster,\n",
    "so we have already done it for you.\n",
    "The output from a PyMemDyn run can be found in the finalOutput folder, which we copy in here now."
   ]
  },
  {
   "cell_type": "code",
   "execution_count": 90,
   "id": "bcdde28b-8744-4d1a-97d5-f4d5e8e54ef9",
   "metadata": {},
   "outputs": [],
   "source": [
    "!cp -r ../data/finalOutput ."
   ]
  },
  {
   "attachments": {},
   "cell_type": "markdown",
   "id": "d32b4b98-0a23-4010-b6b9-52a839c7520e",
   "metadata": {},
   "source": [
    "Typically, it's useful to analyze a few properties, like temperature and pressure, but also RMSD and RMSF (if you don't know what those are please Google it or ask a TA :) ) are good indicators for the stability of your simulation. We can use a basic plotting program called Grace to work with GROMACS output files, e.g.: to check the temperature during your simulation run:"
   ]
  },
  {
   "cell_type": "code",
   "execution_count": 92,
   "id": "5fb159be-38fa-41e3-af71-d400e1cea85e",
   "metadata": {},
   "outputs": [
    {
     "name": "stdout",
     "output_type": "stream",
     "text": [
      "/bin/bash: xmgrace: command not found\n"
     ]
    }
   ],
   "source": [
    "!xmgrace finalOutput/reports/temp.xvg"
   ]
  },
  {
   "cell_type": "code",
   "execution_count": null,
   "id": "62a53a20",
   "metadata": {},
   "outputs": [],
   "source": [
    "!xmgrace finalOutput/reports/temp2.xvg"
   ]
  },
  {
   "cell_type": "code",
   "execution_count": null,
   "id": "d3a37ab4",
   "metadata": {},
   "outputs": [],
   "source": [
    "!xmgrace finalOutput/reports/rmsd-all-atom-vs-start.xvg"
   ]
  },
  {
   "attachments": {},
   "cell_type": "markdown",
   "id": "7f684784-28da-4513-b240-9b297b3d9fbf",
   "metadata": {},
   "source": [
    "Plot the other properties and RMSD/RMSF in the /reports folder as well (all the other .xvg files), and save them in a file. Note that the properties are seperated into two files, each for a specific part of the simulation. Write a short description for each of the figures. Discuss what you are seeing with your fellow students and/or TAs. Note that you need to close the xmgrace window that opened everytime you want to load a new figure, or you need to add a new code block.\n",
    "\n",
    "Next, we can have a look at the trajectory. Open PyMOL and change to the finalOutput directory. There, you can load a PyMOL script (.pml) generated by PyMemDyn, by typing @load_gpcr.pml\n",
    "\n",
    "- Can you see when the restraints are released in the simulation? \n",
    "- Can you link that to events described in the PyMemDyn and GPCR-ModSim papers?\n",
    "- Do you think the ligand looks stable?\n",
    "- What could you do to further assess ligand stability?\n",
    "- Do we know anything about the binding affinity now?\n",
    "\n",
    "Thanks for participating in this last computerlab, as always please ask your TA any questions if something is unclear!"
   ]
  },
  {
   "cell_type": "code",
   "execution_count": null,
   "id": "5d2edf4d-8e77-465a-9dd2-dedc5288f187",
   "metadata": {},
   "outputs": [],
   "source": []
  }
 ],
 "metadata": {
  "kernelspec": {
   "display_name": "Python 3 (ipykernel)",
   "language": "python",
   "name": "python3"
  },
  "language_info": {
   "codemirror_mode": {
    "name": "ipython",
    "version": 3
   },
   "file_extension": ".py",
   "mimetype": "text/x-python",
   "name": "python",
   "nbconvert_exporter": "python",
   "pygments_lexer": "ipython3",
   "version": "3.9.13"
  }
 },
 "nbformat": 4,
 "nbformat_minor": 5
}
