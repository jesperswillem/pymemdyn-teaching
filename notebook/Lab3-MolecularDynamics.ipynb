{
 "cells": [
  {
   "attachments": {},
   "cell_type": "markdown",
   "id": "3790f1b6-5fe1-406b-87eb-32475c89e33a",
   "metadata": {},
   "source": [
    "## CTCB Practical 3: Molecular Dynamics\n",
    "\n",
    "In this practical, you will prepare and run molecular dynamics (MD) simulations for the cannabinoid 2 (CB2) receptor-ligand complex that you also looked at in Practical 1. MD simulations are a powerful computational tool used to study the behavior of (macro)molecules at the atomic level. Here, you will go through the steps required to prepare and run MD simulations using the PyMemDyn Python Package. Normally, these steps are all run at once, but here they are run individually to better understand what each step does and why they are needed for a successful MD simulation on a membrane protein.\n",
    "\n",
    "We recommend you to read up on PyMemDyn and related webserver in the following papers: \\\n",
    "https://portlandpress.com/biochemsoctrans/article-abstract/41/1/205/68208/Characterization-of-the-dynamic-events-of-GPCRs-by \\\n",
    "https://academic.oup.com/nar/article/44/W1/W455/2499371\n",
    "\n",
    "Below, you will find the relevant code blocks that you can execute by using the play button on top, or by typing Shift+Enter. You will use PyMOL to visualize the process of creating an MD simulation, and ultimately the MD simulation itself.\n",
    "\n",
    "If you have any questions about what the code is doing, please ask one of the TAs!"
   ]
  },
  {
   "attachments": {},
   "cell_type": "markdown",
   "id": "f4e1b3c6",
   "metadata": {},
   "source": [
    "### Initiate PyMemDyn"
   ]
  },
  {
   "cell_type": "code",
   "execution_count": null,
   "id": "59348d05-aaf7-4c93-b0df-22b5ad8e50c6",
   "metadata": {},
   "outputs": [],
   "source": [
    "# Import Python native modules\n",
    "import os\n",
    "import sys\n",
    "\n",
    "# Import GROMACS function\n",
    "from gromacs.fileformats.xvg import XVG\n",
    "\n",
    "# Import PyMemDyn module/function\n",
    "sys.path.insert(0, '../')\n",
    "import settings\n",
    "from pymemdyn import Run"
   ]
  },
  {
   "cell_type": "code",
   "execution_count": null,
   "id": "af0c1d86-a71e-4278-b240-0999eb48638e",
   "metadata": {},
   "outputs": [],
   "source": [
    "if not os.getcwd().endswith('rundir'):\n",
    "    os.chdir('rundir')"
   ]
  },
  {
   "attachments": {},
   "cell_type": "markdown",
   "id": "425dcf7e",
   "metadata": {},
   "source": [
    "### Input\n",
    "\n",
    "Our input consists out of two parts, our protein and our ligand:\n",
    "\n",
    "**Protein**: \\\n",
    "The cryo-EM structure of a GPCR-G Protein complex (6KPF; https://www.rcsb.org/structure/6KPF) is used as the starting point for the protein model. For our simulations we are only interested in CB2 (colored in Magenta), thus we firstly removed the G protein from the complex. Secondly, we looked for gaps that result in loose ends within the sequence of the original structure. Gaps mainly are present in flexible regions of the proteins which cannot be resolved through crystallography and imaging. In our structure we see a gap in the ICL3 between TM5 and TM6. We connected the loose ends to increase the stability of our protein during the MD simulations.\n"
   ]
  },
  {
   "cell_type": "code",
   "execution_count": null,
   "id": "0ca1a9df-6cca-4cc3-9a5f-ffbe39e25735",
   "metadata": {},
   "outputs": [],
   "source": [
    "# copy protein input files to working directory\n",
    "!cp ../data/protein.pdb ."
   ]
  },
  {
   "attachments": {},
   "cell_type": "markdown",
   "id": "39cd9add",
   "metadata": {},
   "source": [
    " - Open the protein.pdb file in PyMOL so you can see the processed structure and compare it with the original structure on the PDB.\n",
    "\n",
    "**Ligand**: \\\n",
    "We have docked our ligand onto the protein such as you have done in previous Practicals. For our ligand, we have pre-calculated the topology and OPLS-AA force field parameters (.itp and .ff) for E3R using the LigParGen webserver (http://zarbi.chem.yale.edu/ligpargen/). This is an open-source tool that allows for the calculation of the force field parameters of organic ligands.\n",
    "\n",
    "\"\"\" \\\n",
    "*Force fields*: \\\n",
    "In MD simulations, the motions of atoms and molecules are simulated by numerically solving Newton's equations of motion, which require information about the forces acting on the particles. \n",
    "\n",
    "To accurately model the behavior of molecules in MD simulations, it is necessary to use force field parameters. A force field is a mathematical function that describes the potential energy of a molecule as a function of its position and orientation in space. The force field parameters are the numerical constants in this function that determine the strength of the various types of interactions between atoms or molecules. \n",
    "\n",
    "Force field parameters include bond lengths, bond angles, dihedral angles, van der Waals interactions, and electrostatic interactions. \\\n",
    "\"\"\"\n",
    "\n",
    "\"\"\" \\\n",
    "*Topology files*: \\\n",
    "Topology files (.itp or .top) are used to connect the atoms found within the structure files (.pdb or .gro) and correctly link them with properties found within other files, such as force fields and positional restraints. \\\n",
    "\"\"\""
   ]
  },
  {
   "cell_type": "code",
   "execution_count": null,
   "id": "e6486e13",
   "metadata": {},
   "outputs": [],
   "source": [
    "# copy ligand input files to working directory\n",
    "!cp ../data/E3R.pdb .\n",
    "!cp ../data/E3R.itp .\n",
    "!cp ../data/E3R.ff ."
   ]
  },
  {
   "cell_type": "markdown",
   "id": "fbb2ad3b",
   "metadata": {},
   "source": [
    "\n",
    "### Running PyMemDyn"
   ]
  },
  {
   "attachments": {},
   "cell_type": "markdown",
   "id": "e20f40e7",
   "metadata": {},
   "source": [
    "With your input gathered, you are now ready to execute PyMemDyn step-by-step. \n",
    "\n",
    "First, we instantiate the Run class of PyMemDyn. This is a top level object that takes run time variables and stores them in an object so we can use them in the next steps. In this step we communicate with PyMemDyn what our protein and ligand files are, and which restraints we wish to use during MD. In this case we use Venkatakrishnan/Ballesteros-Weinstein (bw) positional restraints. You can read more about these restaints on https://academic.oup.com/nar/article/44/W1/W455/2499371.\n",
    "\n",
    "\"\"\" \\\n",
    "*Restraints*: \\\n",
    "Restraints are commonly used in molecular dynamics (MD) simulations to constrain certain degrees of freedom of the system being simulated. \n",
    "\n",
    "We use restraints to maintain the structural integrity of the system. Restraints can be used to maintain the structural integrity of a molecule or system, by preventing bond lengths, bond angles, or dihedral angles from deviating too far from their ideal values.\n",
    "\n",
    "There are also other applications for restrains such as sampling conformational space, improve convergence and study specific interactions. If you are interested in these applications, we encourage you to investigate them yourselves. \\\n",
    "\"\"\""
   ]
  },
  {
   "cell_type": "code",
   "execution_count": null,
   "id": "2bc0d313-f553-4d4f-82a0-39bf722fa4d1",
   "metadata": {},
   "outputs": [],
   "source": [
    "run = Run(own_dir = os.getcwd(),\n",
    "          repo_dir = settings.TEMPLATES_DIR,\n",
    "          pdb = 'protein.pdb',\n",
    "          ligand = 'E3R',\n",
    "          alosteric = None,\n",
    "          waters = None,\n",
    "          ions = None,\n",
    "          cho = None,\n",
    "          ligpargen = None,\n",
    "          library = None,\n",
    "          restraint = 'bw',\n",
    "          queue = \"\",\n",
    "          debug = True\n",
    ")"
   ]
  },
  {
   "attachments": {},
   "cell_type": "markdown",
   "id": "915b4738-8642-433c-aafd-bb18695ce5dc",
   "metadata": {
    "tags": []
   },
   "source": [
    "PyMemDyn consists of many individual steps. The command below returns a list of each of the steps run by the PyMemDyn module. We will use the keywords it outputs in the following command blocks to run the individual steps in the program.\n",
    "Note that PyMemDyn normally runs everything in one go (this was the intention of the program), but for teaching purposes it makes more sense to carefully look at each of the individual steps."
   ]
  },
  {
   "cell_type": "code",
   "execution_count": null,
   "id": "059c6c54-9809-441f-9d0c-142d3b4fa955",
   "metadata": {},
   "outputs": [],
   "source": [
    "run.moldyn_notebook_info()"
   ]
  },
  {
   "attachments": {},
   "cell_type": "markdown",
   "id": "0d0897cd",
   "metadata": {},
   "source": [
    "#### Setup protein-ligand complex\n",
    "\n",
    "PyMemDyn communicates with the MD simulation software GROMACS. GROMACS however requires three types of files to be able to simulate the MD of an object: the structural file (.pdb or .gro), the topology file (.itp or .top) and the force fields (.itp or .ff). For our ligand we have pre-calculated these using LigParGen, but for our protein we use GROMACS to calculate this.\n",
    "\n",
    "**pdb2gmx** converts the protein.pdb file into three files:\n",
    "- *proteinopls.pdb* contains the structural file of the protein\n",
    "- *protein.top* contains the topology of the protein\n",
    "- *posre.itp* contains the positional restraints (by default with no restraints)\n"
   ]
  },
  {
   "attachments": {},
   "cell_type": "markdown",
   "id": "75fa791d",
   "metadata": {},
   "source": [
    "**set_itp** then makes a backup of the topology file for later use."
   ]
  },
  {
   "cell_type": "code",
   "execution_count": null,
   "id": "560f0a69-d87e-41d7-a787-1ed7be794d5f",
   "metadata": {},
   "outputs": [],
   "source": [
    "run.moldyn_notebook_run(\"pdb2gmx\")"
   ]
  },
  {
   "cell_type": "code",
   "execution_count": null,
   "id": "212cca52",
   "metadata": {},
   "outputs": [],
   "source": [
    "run.moldyn_notebook_run(\"set_itp\")"
   ]
  },
  {
   "attachments": {},
   "cell_type": "markdown",
   "id": "1b9f341c",
   "metadata": {},
   "source": [
    "With the topology and restraints files generated for the protein, we want to combine the structural files of the protein and the ligand. **concat** merges the protein and ligand structure files. This provides us with *tmp_proteinopls.pdb*. "
   ]
  },
  {
   "cell_type": "code",
   "execution_count": null,
   "id": "34f941fa",
   "metadata": {},
   "outputs": [],
   "source": [
    "run.moldyn_notebook_run(\"concat\")"
   ]
  },
  {
   "attachments": {},
   "cell_type": "markdown",
   "id": "f95a4ab8",
   "metadata": {},
   "source": [
    "### Setup initial simulation box\n",
    "\n",
    "For both processing our structures and running the MD simulations, we need to define the box in which our system is present. \n",
    "\n",
    "**editconf** calculates the inital box which contains our protein and ligand. The **editconf** output lets us investigate the centres, vectors and angles of the system in addition to the total volume. We start by calculating a box with 2.0 Å distance around the complex which provides us with a loose-fitting box around the complex. \\\n",
    "**set_protein_size** then saves the x and y dimensions of the box for later use. We calculate this on a loose-fitting box since we still intend to insert the protein within a membrane \\\n",
    "**editconf2** reduces the box to 0.8 Å  around the complex, which gives us a much tighter box. \\\n",
    "**set_protein_size2** then saves the z dimension of the box for later use. We reduced the size since we need less distance correctly simulate waters above and below the system compared to the membrane.\n",
    "\n",
    "\n",
    "\"\"\" \\\n",
    "*simulation box*: \\\n",
    "In molecular dynamics (MD) simulations, a simulation box is defined to contain the molecular system being simulated. The simulation box is a three-dimensional space that includes all of the atoms or molecules in the system. There are several reasons why a simulation box is necessary for MD simulations:\n",
    "\n",
    "To define periodic boundary conditions: In MD simulations, periodic boundary conditions are often used to simulate an infinite system by replicating the simulation box in all three dimensions. This can improve the accuracy of the simulation by reducing the influence of the system size on the simulation results.\n",
    "\n",
    "To avoid edge effects: By defining a simulation box that is sufficiently large, edge effects can be minimized. Edge effects occur when atoms or molecules at the boundary of the simulation box interact differently than atoms or molecules in the interior of the box. This can lead to unphysical behavior and inaccuracies in the simulation results.\n",
    "\n",
    "To define the density of the system: The size of the simulation box determines the density of the system being simulated. By adjusting the size of the simulation box, the density of the system can be controlled, which can affect the dynamics and properties of the system.\n",
    "\n",
    "To control the volume of the system: The size of the simulation box can also be used to control the volume of the system being simulated. By constraining the volume of the simulation box, pressure and other thermodynamic properties can be controlled. \\\n",
    "\"\"\""
   ]
  },
  {
   "cell_type": "code",
   "execution_count": null,
   "id": "080f1a84",
   "metadata": {},
   "outputs": [],
   "source": [
    "run.moldyn_notebook_run(\"editconf\")"
   ]
  },
  {
   "cell_type": "code",
   "execution_count": null,
   "id": "29475ac3",
   "metadata": {},
   "outputs": [],
   "source": [
    "run.moldyn_notebook_run(\"set_protein_size\")"
   ]
  },
  {
   "cell_type": "code",
   "execution_count": null,
   "id": "ab150d11",
   "metadata": {},
   "outputs": [],
   "source": [
    "run.moldyn_notebook_run(\"editconf2\")"
   ]
  },
  {
   "cell_type": "code",
   "execution_count": null,
   "id": "971cff4a",
   "metadata": {},
   "outputs": [],
   "source": [
    "run.moldyn_notebook_run(\"set_protein_size2\")"
   ]
  },
  {
   "attachments": {},
   "cell_type": "markdown",
   "id": "c44f71e8",
   "metadata": {},
   "source": [
    "Now the protein-ligand complex is assembled and and our initial box is defined. \\\n",
    "- Open the proteinopls.pdb file in PyMOL to see what the complex currently looks like."
   ]
  },
  {
   "attachments": {},
   "cell_type": "markdown",
   "id": "659ec346",
   "metadata": {},
   "source": [
    "#### Prepare membrane embedding (1)"
   ]
  },
  {
   "attachments": {},
   "cell_type": "markdown",
   "id": "c6daf0d3",
   "metadata": {},
   "source": [
    "We currently have the protein-ligand complex ready, but it is still floating within a void. CB2 is a membrane bound protein, so for our MD simulation, we will have to setup the system to represent this environment. Firstly, we will embed our protein within a POPC membrane model. \n",
    "\n",
    "**set_popc** retrieves our membrane model we will use later. \n",
    "- After running the command, look at popc.pdb with PyMOL to see how the model initially looks like. \n",
    "\n",
    "**editconf3** changes the box dimensions of *proteinopls.pdb* to prepare for membrane embedding. In addition, we change the shape to triclinic as a precursor to our final shape. "
   ]
  },
  {
   "cell_type": "code",
   "execution_count": null,
   "id": "146145d9",
   "metadata": {},
   "outputs": [],
   "source": [
    "run.moldyn_notebook_run(\"set_popc\")"
   ]
  },
  {
   "cell_type": "code",
   "execution_count": null,
   "id": "8c807c53",
   "metadata": {},
   "outputs": [],
   "source": [
    "run.moldyn_notebook_run(\"editconf3\")"
   ]
  },
  {
   "attachments": {},
   "cell_type": "markdown",
   "id": "5f966a33",
   "metadata": {},
   "source": [
    "#### Prepare ligand parameters\n",
    "\n",
    "For our ligand, we had the structure, topology and force field files pre-calculated as input. We however still need to create an index and generate the positional restraint for it. \\\n",
    "**make_ndx_lig**: creates a GROMACS index file to create index group for the ligand. It helps keep track of atoms during pre-processing and MD simulation\\\n",
    "**genrestr_lig**: creates positional restraint file (posre_lig.itp) similar to the positional restraint file generated for the protein in **pdb2gmx**.\n"
   ]
  },
  {
   "cell_type": "code",
   "execution_count": null,
   "id": "3bc36bfc",
   "metadata": {},
   "outputs": [],
   "source": [
    "run.moldyn_notebook_run(\"make_ndx_lig\")"
   ]
  },
  {
   "cell_type": "code",
   "execution_count": null,
   "id": "ab44770b",
   "metadata": {},
   "outputs": [],
   "source": [
    "run.moldyn_notebook_run(\"genrestr_lig\")"
   ]
  },
  {
   "attachments": {},
   "cell_type": "markdown",
   "id": "3513dd2e",
   "metadata": {},
   "source": [
    "#### Prepare membrane embedding (2)\n",
    "\n",
    "**editconf4** create a simulation box for popc.pdb. The dimensions of the box were determined by the **set_protein_size** and **set_protein_size2** commands. Note that now the new box centre for the z-axis (3rd colunm) is the same as for proteinopls.pdb (**editconf3**). This ensures that the membrane will be inserted at the correct height of the protein. \\\n",
    "**make_topol** makes a topology file (topol.top) linking the topopology and positional restraint files of all objects. Currently in the bottom of the file, you can see there is 1 protein and 1 ligand present. Later steps will add more molecules when they are incorporated within the system. \\\n",
    "**editconf5** is a dummy step only present to check if the previous steps have executed correctly."
   ]
  },
  {
   "cell_type": "code",
   "execution_count": null,
   "id": "6973ac8d",
   "metadata": {},
   "outputs": [],
   "source": [
    "run.moldyn_notebook_run(\"editconf4\")"
   ]
  },
  {
   "cell_type": "code",
   "execution_count": null,
   "id": "b4c3dee0",
   "metadata": {},
   "outputs": [],
   "source": [
    "run.moldyn_notebook_run(\"make_topol\")"
   ]
  },
  {
   "cell_type": "code",
   "execution_count": null,
   "id": "1d5cb1cf",
   "metadata": {},
   "outputs": [],
   "source": [
    "run.moldyn_notebook_run(\"editconf5\")"
   ]
  },
  {
   "attachments": {},
   "cell_type": "markdown",
   "id": "a5df8ccc",
   "metadata": {},
   "source": [
    "We now have both the protein-ligand complex (proteinopls.pdb) and the lipid bilayer (popc.gro) prepared for embedding. We use **solvate** to surround the protein with lipids. In essence, both structures are overlayed, and lipids that overlap with either the protein or the ligand are removed. "
   ]
  },
  {
   "cell_type": "code",
   "execution_count": null,
   "id": "adea7c61",
   "metadata": {},
   "outputs": [],
   "source": [
    "run.moldyn_notebook_run(\"solvate\")"
   ]
  },
  {
   "attachments": {},
   "cell_type": "markdown",
   "id": "92335ef5",
   "metadata": {},
   "source": [
    "Now we can check whether embedding has gone correctly.\n",
    "\n",
    "- Firstly, open *topol.top*. Here you should find POP to be added to the bottom of the file. This indicates the number of lipid molecules that were added to the system.\n",
    "\n",
    "- Secondly, open *protpopc.pdb* using PyMOL. You can see that the protein is now surrounded by bilayer of POPC lipids on three sides. This means embedding a successfull embedding. Due to the infinite box principle (see \"\"\"*simulation box*\"\"\") in practice all sides of the protein surrounded by lipids. "
   ]
  },
  {
   "attachments": {},
   "cell_type": "markdown",
   "id": "27165308",
   "metadata": {},
   "source": [
    "#### Solvate Protein-Membrane System with Waters\n",
    "\n",
    "You should now have your protein correctly embedded within the membrane. This however still is not a complete system. The intra- and extracellular parts of the system still remain voids. In the following steps we will prepare our system again for solvation using a water model."
   ]
  },
  {
   "cell_type": "code",
   "execution_count": null,
   "id": "2775a4ef",
   "metadata": {},
   "outputs": [],
   "source": [
    "run.moldyn_notebook_run(\"set_water\")"
   ]
  },
  {
   "cell_type": "code",
   "execution_count": null,
   "id": "50d3f672",
   "metadata": {},
   "outputs": [],
   "source": [
    "run.moldyn_notebook_run(\"editconf6\")"
   ]
  },
  {
   "cell_type": "code",
   "execution_count": null,
   "id": "0b909974",
   "metadata": {},
   "outputs": [],
   "source": [
    "run.moldyn_notebook_run(\"editconf7\")"
   ]
  },
  {
   "cell_type": "code",
   "execution_count": null,
   "id": "cc50da17",
   "metadata": {},
   "outputs": [],
   "source": [
    "run.moldyn_notebook_run(\"solvate2\")"
   ]
  },
  {
   "cell_type": "markdown",
   "id": "f25e1d00",
   "metadata": {},
   "source": [
    "Now, the protein-membrane system is solvated with waters. \\\n",
    "Open the tmp.pdb file in PyMOL to see what the complex now looks like."
   ]
  },
  {
   "cell_type": "markdown",
   "id": "1c143fbf",
   "metadata": {},
   "source": [
    "#### Prepare MD (1)"
   ]
  },
  {
   "cell_type": "code",
   "execution_count": null,
   "id": "32bac569",
   "metadata": {},
   "outputs": [],
   "source": [
    "run.moldyn_notebook_run(\"count_lipids\")"
   ]
  },
  {
   "cell_type": "code",
   "execution_count": null,
   "id": "e054e416",
   "metadata": {},
   "outputs": [],
   "source": [
    "run.moldyn_notebook_run(\"make_topol2\")"
   ]
  },
  {
   "cell_type": "code",
   "execution_count": null,
   "id": "c7424608",
   "metadata": {},
   "outputs": [],
   "source": [
    "run.moldyn_notebook_run(\"make_topol_lipids\")"
   ]
  },
  {
   "cell_type": "code",
   "execution_count": null,
   "id": "68fc876b",
   "metadata": {},
   "outputs": [],
   "source": [
    "run.moldyn_notebook_run(\"make_ffoplsaanb\")"
   ]
  },
  {
   "cell_type": "code",
   "execution_count": null,
   "id": "ea7d1b60",
   "metadata": {},
   "outputs": [],
   "source": [
    "run.moldyn_notebook_run(\"set_grompp\")"
   ]
  },
  {
   "cell_type": "code",
   "execution_count": null,
   "id": "bfdb97f4",
   "metadata": {},
   "outputs": [],
   "source": [
    "run.moldyn_notebook_run(\"set_chains\")"
   ]
  },
  {
   "cell_type": "code",
   "execution_count": null,
   "id": "4298de72",
   "metadata": {},
   "outputs": [],
   "source": [
    "run.moldyn_notebook_run(\"make_ndx\")"
   ]
  },
  {
   "cell_type": "code",
   "execution_count": null,
   "id": "a2a7a0a8",
   "metadata": {},
   "outputs": [],
   "source": [
    "run.moldyn_notebook_run(\"grompp\")"
   ]
  },
  {
   "cell_type": "code",
   "execution_count": null,
   "id": "48c863cf",
   "metadata": {},
   "outputs": [],
   "source": [
    "run.moldyn_notebook_run(\"trjconv\")"
   ]
  },
  {
   "cell_type": "markdown",
   "id": "cc1c3632",
   "metadata": {},
   "source": [
    "#### Add Ions to System\n"
   ]
  },
  {
   "cell_type": "code",
   "execution_count": null,
   "id": "f0fd9a37",
   "metadata": {},
   "outputs": [],
   "source": [
    "run.moldyn_notebook_run(\"get_charge\")"
   ]
  },
  {
   "cell_type": "code",
   "execution_count": null,
   "id": "c4cc4ce7",
   "metadata": {},
   "outputs": [],
   "source": [
    "run.moldyn_notebook_run(\"genion\")"
   ]
  },
  {
   "cell_type": "markdown",
   "id": "a8d87353",
   "metadata": {},
   "source": [
    "Now, the complex is made neutral in charge by adding ions. \\\n",
    "Open the output.pdb file in PyMOL to see what the system now looks like."
   ]
  },
  {
   "cell_type": "markdown",
   "id": "03b06ef8",
   "metadata": {},
   "source": [
    "#### Prepare MD (2)"
   ]
  },
  {
   "cell_type": "code",
   "execution_count": null,
   "id": "8ba848e0",
   "metadata": {},
   "outputs": [],
   "source": [
    "run.moldyn_notebook_run(\"grompp2\")"
   ]
  },
  {
   "cell_type": "code",
   "execution_count": null,
   "id": "e1497a9b",
   "metadata": {},
   "outputs": [],
   "source": [
    "run.moldyn_notebook_run(\"trjconv2\")"
   ]
  },
  {
   "cell_type": "code",
   "execution_count": null,
   "id": "b1e8d2a5",
   "metadata": {},
   "outputs": [],
   "source": [
    "run.moldyn_notebook_run(\"grompp3\")"
   ]
  },
  {
   "cell_type": "code",
   "execution_count": null,
   "id": "4a27b727",
   "metadata": {},
   "outputs": [],
   "source": [
    "run.moldyn_notebook_run(\"trjconv3\")"
   ]
  },
  {
   "cell_type": "code",
   "execution_count": null,
   "id": "8eb44178",
   "metadata": {},
   "outputs": [],
   "source": [
    "run.moldyn_notebook_run(\"clean_pdb\")"
   ]
  },
  {
   "cell_type": "markdown",
   "id": "026d4808",
   "metadata": {},
   "source": [
    "The final system for MD simulation has now been created. The system has now been converted into an hexagonal shape. \\\n",
    "Open the hexagon.pdb file in PyMOL to see what the system now looks like."
   ]
  },
  {
   "attachments": {},
   "cell_type": "markdown",
   "id": "55a3b1f0-3d15-436d-abb2-f224f1226498",
   "metadata": {},
   "source": [
    "### MD Simulation\n",
    "\n",
    "**After** you have completed all steps above, you would normally start running the MD simulation within PyMemDyn. However it takes a few hours to complete on a pretty large cluster,\n",
    "so we have already done it for you.\n",
    "\n",
    "##### ADD MORE DETAILS ON SIMULATION RUN ###########\n",
    "\n",
    "The output from a PyMemDyn run can be found in the finalOutput folder, which we copy in here now."
   ]
  },
  {
   "cell_type": "code",
   "execution_count": null,
   "id": "bcdde28b-8744-4d1a-97d5-f4d5e8e54ef9",
   "metadata": {},
   "outputs": [],
   "source": [
    "!cp -r ../data/finalOutput ."
   ]
  },
  {
   "cell_type": "markdown",
   "id": "d32b4b98-0a23-4010-b6b9-52a839c7520e",
   "metadata": {},
   "source": [
    "Typically, it's useful to analyze a few properties, like temperature and pressure, but also RMSD and RMSF (if you don't know what those are please Google it or ask a TA :) ) are good indicators for the stability of your simulation. We can use basic plotting to work with GROMACS output files, e.g.: to check the temperature during your simulation run:"
   ]
  },
  {
   "cell_type": "code",
   "execution_count": null,
   "id": "5d2edf4d-8e77-465a-9dd2-dedc5288f187",
   "metadata": {},
   "outputs": [],
   "source": [
    "#Define a helper function that plots .xvg files:\n",
    "def plot_xvg(xvgfile): \n",
    "    df = XVG(xvgfile).to_df()\n",
    "    plot = df.plot(x=df.columns[0], ylabel=df.columns[1], legend=None, title=xvgfile)\n",
    "    return plot"
   ]
  },
  {
   "cell_type": "code",
   "execution_count": null,
   "id": "5fb159be-38fa-41e3-af71-d400e1cea85e",
   "metadata": {},
   "outputs": [],
   "source": [
    "plot_xvg('finalOutput/reports/temp.xvg')"
   ]
  },
  {
   "cell_type": "code",
   "execution_count": null,
   "id": "62a53a20",
   "metadata": {},
   "outputs": [],
   "source": [
    "plot_xvg('finalOutput/reports/temp2.xvg')"
   ]
  },
  {
   "cell_type": "code",
   "execution_count": null,
   "id": "d3a37ab4",
   "metadata": {},
   "outputs": [],
   "source": [
    "plot_xvg('finalOutput/reports/rmsd-all-atom-vs-start.xvg')"
   ]
  },
  {
   "cell_type": "markdown",
   "id": "7f684784-28da-4513-b240-9b297b3d9fbf",
   "metadata": {},
   "source": [
    "Plot the other properties and RMSD/RMSF in the /reports folder as well (all the other .xvg files), and save them in a file. Note that the properties are seperated into two files, each for a specific part of the simulation. Write a short description for each of the figures. Discuss what you are seeing with your fellow students and/or TAs. Note that you need to close the xmgrace window that opened everytime you want to load a new figure, or you need to add a new code block."
   ]
  },
  {
   "cell_type": "code",
   "execution_count": null,
   "id": "5d2909bf-91be-4148-b683-5168ed3349f9",
   "metadata": {},
   "outputs": [],
   "source": [
    "for file in os.listdir('finalOutput/reports'):\n",
    "    if file.endswith('.xvg'):\n",
    "        plot_xvg('finalOutput/reports/'+file)"
   ]
  },
  {
   "cell_type": "markdown",
   "id": "aa9f86ad-16ca-418a-9205-4ed94ca38f73",
   "metadata": {},
   "source": [
    "\n",
    "Next, we can have a look at the trajectory. Open PyMOL and change to the finalOutput directory. There, you can load a PyMOL script (.pml) generated by PyMemDyn, by typing @load_gpcr.pml\n",
    "\n",
    "- Can you see when the restraints are released in the simulation? \n",
    "- Can you link that to events described in the PyMemDyn and GPCR-ModSim papers?\n",
    "- Do you think the ligand looks stable?\n",
    "- What could you do to further assess ligand stability?\n",
    "- Do we know anything about the binding affinity now?\n",
    "\n",
    "Thanks for participating in this last computerlab, as always please ask your TA any questions if something is unclear!"
   ]
  }
 ],
 "metadata": {
  "kernelspec": {
   "display_name": "Python 3 (ipykernel)",
   "language": "python",
   "name": "python3"
  },
  "language_info": {
   "codemirror_mode": {
    "name": "ipython",
    "version": 3
   },
   "file_extension": ".py",
   "mimetype": "text/x-python",
   "name": "python",
   "nbconvert_exporter": "python",
   "pygments_lexer": "ipython3",
   "version": "3.10.4"
  }
 },
 "nbformat": 4,
 "nbformat_minor": 5
}
