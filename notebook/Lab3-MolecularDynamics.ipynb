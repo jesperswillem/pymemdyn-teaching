{
 "cells": [
  {
   "attachments": {},
   "cell_type": "markdown",
   "id": "3790f1b6-5fe1-406b-87eb-32475c89e33a",
   "metadata": {},
   "source": [
    "## Lab3: Molecular Dynamics\n",
    "\n",
    "In this lab, we will prepare and run the necessary steps to perform molecular dynamics (MD) simulations of the cannabinoid 2 (CB2) receptor-ligand complex. \n",
    "\n",
    "The lab includes a series of steps to interact with the GROMACS program, as well as with a few Python scripts included within the Python package PyMemDyn. Normally, these steps are all run at once, but here we run them individually to better understand which steps are needed to successfully run MD on a membrane protein.\n",
    "\n",
    "I recommend to read up on PyMemDyn and related webserver if the following papers: \\\n",
    "https://portlandpress.com/biochemsoctrans/article-abstract/41/1/205/68208/Characterization-of-the-dynamic-events-of-GPCRs-by \\\n",
    "https://academic.oup.com/nar/article/44/W1/W455/2499371?login=true\n",
    "\n",
    "Below, you will find the relevant code blocks that you can execute by using the play button on top, or by typing Shift+Enter. You will use PyMOL to visualize the process of creating an MD simulation, and the MD simulation itself.\n",
    "\n",
    "If you want to know more about what the code is doing, please ask one of the teachers!"
   ]
  },
  {
   "attachments": {},
   "cell_type": "markdown",
   "id": "f4e1b3c6",
   "metadata": {},
   "source": [
    "### Load PyMemDyn"
   ]
  },
  {
   "cell_type": "code",
   "execution_count": null,
   "id": "59348d05-aaf7-4c93-b0df-22b5ad8e50c6",
   "metadata": {},
   "outputs": [],
   "source": [
    "# Import python native functions\n",
    "import os\n",
    "import sys\n",
    "\n",
    "# Add PyMemDyn modules\n",
    "sys.path.insert(0, '../')\n",
    "\n",
    "import settings\n",
    "from pymemdyn import Run"
   ]
  },
  {
   "attachments": {},
   "cell_type": "markdown",
   "id": "425dcf7e",
   "metadata": {},
   "source": [
    "### Input\n",
    "\n",
    "We copy in the protein and ligand input files as these have already been pre-processed before the lab."
   ]
  },
  {
   "cell_type": "code",
   "execution_count": null,
   "id": "af0c1d86-a71e-4278-b240-0999eb48638e",
   "metadata": {},
   "outputs": [],
   "source": [
    "if not os.getcwd().endswith('rundir'):\n",
    "    os.chdir('rundir')"
   ]
  },
  {
   "cell_type": "code",
   "execution_count": null,
   "id": "0ca1a9df-6cca-4cc3-9a5f-ffbe39e25735",
   "metadata": {},
   "outputs": [],
   "source": [
    "# copy input files to working directory\n",
    "!cp ../data/protein.pdb .\n",
    "!cp ../data/E3R.pdb .\n",
    "!cp ../data/E3R.itp .\n",
    "!cp ../data/E3R.ff ."
   ]
  },
  {
   "attachments": {},
   "cell_type": "markdown",
   "id": "8bcd569e",
   "metadata": {},
   "source": [
    "We use the crystal structure 6KPF (https://www.rcsb.org/structure/6KPF) as a starting point. By opening the protein.pdb file in PyMOL, you can see that the structure has been modified compared to the original crystal structure file on the RCSB PDB. \n",
    "\n",
    "Due to limitations in crystalizing highly-flexible regions of a protein, some sub-structures are not present within the crystal structure. Therefore, we also connect loops which were disconnected, and check if all amino acid side-chains are present. Also, the G protein was removed from the complex.\n",
    "\n",
    "\n",
    "For the ligand input, we pre-generated the OPLS forcefield parameters using the LigParGen webserver (http://zarbi.chem.yale.edu/ligpargen/).\n"
   ]
  },
  {
   "cell_type": "markdown",
   "id": "fbb2ad3b",
   "metadata": {},
   "source": [
    "\n",
    "### Running PyMemDyn"
   ]
  },
  {
   "attachments": {},
   "cell_type": "markdown",
   "id": "e20f40e7",
   "metadata": {},
   "source": [
    "First, we instantiate the Run class of PyMemDyn, this top level object takes run time variables and stores them in an object so we can use them in the next steps"
   ]
  },
  {
   "cell_type": "code",
   "execution_count": null,
   "id": "2bc0d313-f553-4d4f-82a0-39bf722fa4d1",
   "metadata": {},
   "outputs": [],
   "source": [
    "run = Run(own_dir = os.getcwd(),\n",
    "          repo_dir = settings.TEMPLATES_DIR,\n",
    "          pdb = 'protein.pdb',\n",
    "          ligand = 'E3R',\n",
    "          alosteric = None,\n",
    "          waters = None,\n",
    "          ions = None,\n",
    "          cho = None,\n",
    "          ligpargen = None,\n",
    "          library = None,\n",
    "          restraint = 'bw',\n",
    "          queue = \"\",\n",
    "          debug = True\n",
    ")"
   ]
  },
  {
   "attachments": {},
   "cell_type": "markdown",
   "id": "915b4738-8642-433c-aafd-bb18695ce5dc",
   "metadata": {
    "tags": []
   },
   "source": [
    "The command bellow returns a list of each of the steps run by the PyMemDyn.\n",
    "We will use these keywords in the following command blocks to run the individual steps\n",
    "in the program.\n",
    "Note that PyMemDyn can also run everything in one go (this was the intention of the \n",
    "program), but for teaching purposes it makes more sense to carefully look at each individual step."
   ]
  },
  {
   "cell_type": "code",
   "execution_count": null,
   "id": "059c6c54-9809-441f-9d0c-142d3b4fa955",
   "metadata": {},
   "outputs": [],
   "source": [
    "run.moldyn_notebook_info()"
   ]
  },
  {
   "attachments": {},
   "cell_type": "markdown",
   "id": "650e5a69-9476-42de-8624-dffdddf00c91",
   "metadata": {},
   "source": [
    "You can use the code block below to run each of the commands individually, there will be a short description of each of the\n",
    "steps printed out. Some commands are running via GROMACS (indicated in the header) other commands are actual Python\n",
    "scripts part of the PyMemDyn package.\n",
    "\n",
    "Sometimes the help function mentions a filetype (.top or .itp for instance) if you don't know what these files are\n",
    "you can find more information here: \\\n",
    "https://manual.gromacs.org/documentation/5.1.1/user-guide/file-formats.html\n"
   ]
  },
  {
   "attachments": {},
   "cell_type": "markdown",
   "id": "0d0897cd",
   "metadata": {},
   "source": [
    "#### Setup Protein-Ligand Complex"
   ]
  },
  {
   "cell_type": "code",
   "execution_count": null,
   "id": "560f0a69-d87e-41d7-a787-1ed7be794d5f",
   "metadata": {},
   "outputs": [],
   "source": [
    "run.moldyn_notebook_run(\"pdb2gmx\")"
   ]
  },
  {
   "cell_type": "code",
   "execution_count": null,
   "id": "212cca52",
   "metadata": {},
   "outputs": [],
   "source": [
    "run.moldyn_notebook_run(\"set_itp\")"
   ]
  },
  {
   "cell_type": "code",
   "execution_count": null,
   "id": "34f941fa",
   "metadata": {},
   "outputs": [],
   "source": [
    "run.moldyn_notebook_run(\"concat\")"
   ]
  },
  {
   "cell_type": "code",
   "execution_count": null,
   "id": "080f1a84",
   "metadata": {},
   "outputs": [],
   "source": [
    "run.moldyn_notebook_run(\"editconf\")"
   ]
  },
  {
   "cell_type": "code",
   "execution_count": null,
   "id": "29475ac3",
   "metadata": {},
   "outputs": [],
   "source": [
    "run.moldyn_notebook_run(\"set_protein_size\")"
   ]
  },
  {
   "cell_type": "code",
   "execution_count": null,
   "id": "ab150d11",
   "metadata": {},
   "outputs": [],
   "source": [
    "run.moldyn_notebook_run(\"editconf2\")"
   ]
  },
  {
   "cell_type": "code",
   "execution_count": null,
   "id": "971cff4a",
   "metadata": {},
   "outputs": [],
   "source": [
    "run.moldyn_notebook_run(\"set_protein_size2\")"
   ]
  },
  {
   "attachments": {},
   "cell_type": "markdown",
   "id": "c44f71e8",
   "metadata": {},
   "source": [
    "Now, the protein-ligand complex is essembled and positioned for insertion within the membrane. \\\n",
    "Open the proteinopls.pdb file in PyMOL to see what the complex looks like."
   ]
  },
  {
   "attachments": {},
   "cell_type": "markdown",
   "id": "659ec346",
   "metadata": {},
   "source": [
    "#### Embed Complex within Membrane"
   ]
  },
  {
   "cell_type": "code",
   "execution_count": null,
   "id": "146145d9",
   "metadata": {},
   "outputs": [],
   "source": [
    "run.moldyn_notebook_run(\"set_popc\")"
   ]
  },
  {
   "cell_type": "code",
   "execution_count": null,
   "id": "8c807c53",
   "metadata": {},
   "outputs": [],
   "source": [
    "run.moldyn_notebook_run(\"editconf3\")"
   ]
  },
  {
   "cell_type": "code",
   "execution_count": null,
   "id": "3bc36bfc",
   "metadata": {},
   "outputs": [],
   "source": [
    "run.moldyn_notebook_run(\"make_ndx_lig\")"
   ]
  },
  {
   "cell_type": "code",
   "execution_count": null,
   "id": "ab44770b",
   "metadata": {},
   "outputs": [],
   "source": [
    "run.moldyn_notebook_run(\"genrestr_lig\")"
   ]
  },
  {
   "cell_type": "code",
   "execution_count": null,
   "id": "6973ac8d",
   "metadata": {},
   "outputs": [],
   "source": [
    "run.moldyn_notebook_run(\"editconf4\")"
   ]
  },
  {
   "cell_type": "code",
   "execution_count": null,
   "id": "b4c3dee0",
   "metadata": {},
   "outputs": [],
   "source": [
    "run.moldyn_notebook_run(\"make_topol\")"
   ]
  },
  {
   "cell_type": "code",
   "execution_count": null,
   "id": "1d5cb1cf",
   "metadata": {},
   "outputs": [],
   "source": [
    "run.moldyn_notebook_run(\"editconf5\")"
   ]
  },
  {
   "cell_type": "code",
   "execution_count": null,
   "id": "adea7c61",
   "metadata": {},
   "outputs": [],
   "source": [
    "run.moldyn_notebook_run(\"solvate\")"
   ]
  },
  {
   "attachments": {},
   "cell_type": "markdown",
   "id": "92335ef5",
   "metadata": {},
   "source": [
    "Now, the protein-ligand complex is embedded within the lipid bilayer. \\\n",
    "Open the protpopc.pdb file in PyMOL to see what the system now looks like."
   ]
  },
  {
   "attachments": {},
   "cell_type": "markdown",
   "id": "27165308",
   "metadata": {},
   "source": [
    "#### Solvate Protein-Membrane System with Waters"
   ]
  },
  {
   "cell_type": "code",
   "execution_count": null,
   "id": "2775a4ef",
   "metadata": {},
   "outputs": [],
   "source": [
    "run.moldyn_notebook_run(\"set_water\")"
   ]
  },
  {
   "cell_type": "code",
   "execution_count": null,
   "id": "50d3f672",
   "metadata": {},
   "outputs": [],
   "source": [
    "run.moldyn_notebook_run(\"editconf6\")"
   ]
  },
  {
   "cell_type": "code",
   "execution_count": null,
   "id": "0b909974",
   "metadata": {},
   "outputs": [],
   "source": [
    "run.moldyn_notebook_run(\"editconf7\")"
   ]
  },
  {
   "cell_type": "code",
   "execution_count": null,
   "id": "cc50da17",
   "metadata": {},
   "outputs": [],
   "source": [
    "run.moldyn_notebook_run(\"solvate2\")"
   ]
  },
  {
   "attachments": {},
   "cell_type": "markdown",
   "id": "f25e1d00",
   "metadata": {},
   "source": [
    "Now, the protein-membrane system is solvated with waters. \\\n",
    "Open the tmp.pdb file in PyMOL to see what the complex now looks like."
   ]
  },
  {
   "attachments": {},
   "cell_type": "markdown",
   "id": "1c143fbf",
   "metadata": {},
   "source": [
    "#### Prepare MD (1)"
   ]
  },
  {
   "cell_type": "code",
   "execution_count": null,
   "id": "32bac569",
   "metadata": {},
   "outputs": [],
   "source": [
    "run.moldyn_notebook_run(\"count_lipids\")"
   ]
  },
  {
   "cell_type": "code",
   "execution_count": null,
   "id": "e054e416",
   "metadata": {},
   "outputs": [],
   "source": [
    "run.moldyn_notebook_run(\"make_topol2\")"
   ]
  },
  {
   "cell_type": "code",
   "execution_count": null,
   "id": "c7424608",
   "metadata": {},
   "outputs": [],
   "source": [
    "run.moldyn_notebook_run(\"make_topol_lipids\")"
   ]
  },
  {
   "cell_type": "code",
   "execution_count": null,
   "id": "68fc876b",
   "metadata": {},
   "outputs": [],
   "source": [
    "run.moldyn_notebook_run(\"make_ffoplsaanb\")"
   ]
  },
  {
   "cell_type": "code",
   "execution_count": null,
   "id": "ea7d1b60",
   "metadata": {},
   "outputs": [],
   "source": [
    "run.moldyn_notebook_run(\"set_grompp\")"
   ]
  },
  {
   "cell_type": "code",
   "execution_count": null,
   "id": "bfdb97f4",
   "metadata": {},
   "outputs": [],
   "source": [
    "run.moldyn_notebook_run(\"set_chains\")"
   ]
  },
  {
   "cell_type": "code",
   "execution_count": null,
   "id": "4298de72",
   "metadata": {},
   "outputs": [],
   "source": [
    "run.moldyn_notebook_run(\"make_ndx\")"
   ]
  },
  {
   "cell_type": "code",
   "execution_count": null,
   "id": "a2a7a0a8",
   "metadata": {},
   "outputs": [],
   "source": [
    "run.moldyn_notebook_run(\"grompp\")"
   ]
  },
  {
   "cell_type": "code",
   "execution_count": null,
   "id": "48c863cf",
   "metadata": {},
   "outputs": [],
   "source": [
    "run.moldyn_notebook_run(\"trjconv\")"
   ]
  },
  {
   "attachments": {},
   "cell_type": "markdown",
   "id": "cc1c3632",
   "metadata": {},
   "source": [
    "#### Add Ions to System\n"
   ]
  },
  {
   "cell_type": "code",
   "execution_count": null,
   "id": "f0fd9a37",
   "metadata": {},
   "outputs": [],
   "source": [
    "run.moldyn_notebook_run(\"get_charge\")"
   ]
  },
  {
   "cell_type": "code",
   "execution_count": null,
   "id": "c4cc4ce7",
   "metadata": {},
   "outputs": [],
   "source": [
    "run.moldyn_notebook_run(\"genion\")"
   ]
  },
  {
   "attachments": {},
   "cell_type": "markdown",
   "id": "a8d87353",
   "metadata": {},
   "source": [
    "Now, the complex is made neutral in charge by adding ions. \\\n",
    "Open the output.pdb file in PyMOL to see what the system now looks like."
   ]
  },
  {
   "attachments": {},
   "cell_type": "markdown",
   "id": "03b06ef8",
   "metadata": {},
   "source": [
    "#### Prepare MD (2)"
   ]
  },
  {
   "cell_type": "code",
   "execution_count": null,
   "id": "8ba848e0",
   "metadata": {},
   "outputs": [],
   "source": [
    "run.moldyn_notebook_run(\"grompp2\")"
   ]
  },
  {
   "cell_type": "code",
   "execution_count": null,
   "id": "e1497a9b",
   "metadata": {},
   "outputs": [],
   "source": [
    "run.moldyn_notebook_run(\"trjconv2\")"
   ]
  },
  {
   "cell_type": "code",
   "execution_count": null,
   "id": "b1e8d2a5",
   "metadata": {},
   "outputs": [],
   "source": [
    "run.moldyn_notebook_run(\"grompp3\")"
   ]
  },
  {
   "cell_type": "code",
   "execution_count": null,
   "id": "4a27b727",
   "metadata": {},
   "outputs": [],
   "source": [
    "run.moldyn_notebook_run(\"trjconv3\")"
   ]
  },
  {
   "cell_type": "code",
   "execution_count": null,
   "id": "8eb44178",
   "metadata": {},
   "outputs": [],
   "source": [
    "run.moldyn_notebook_run(\"clean_pdb\")"
   ]
  },
  {
   "attachments": {},
   "cell_type": "markdown",
   "id": "026d4808",
   "metadata": {},
   "source": [
    "The final system for MD simulation has now been created. The system has now been converted into an hexagonal shape. \\\n",
    "Open the hexagon.pdb file in PyMOL to see what the system now looks like."
   ]
  },
  {
   "attachments": {},
   "cell_type": "markdown",
   "id": "55a3b1f0-3d15-436d-abb2-f224f1226498",
   "metadata": {},
   "source": [
    "### MD Simulation\n",
    "\n",
    "**After** you have completed all steps above, you would normally start running the MD simulation within PyMemDyn. However it takes a few hours to complete on a pretty large cluster,\n",
    "so we have already done it for you.\n",
    "The output from a PyMemDyn run can be found in the finalOutput folder, which we copy in here now."
   ]
  },
  {
   "cell_type": "code",
   "execution_count": null,
   "id": "bcdde28b-8744-4d1a-97d5-f4d5e8e54ef9",
   "metadata": {},
   "outputs": [],
   "source": [
    "!cp -r ../data/finalOutput ."
   ]
  },
  {
   "attachments": {},
   "cell_type": "markdown",
   "id": "d32b4b98-0a23-4010-b6b9-52a839c7520e",
   "metadata": {},
   "source": [
    "Typically, it's useful to analyze a few properties, like temperature and pressure, but also RMSD and RMSF (if you don't know what those are please Google it or ask a TA :) ) are good indicators for the stability of your simulation. We can use a basic plotting program called Grace to work with GROMACS output files, e.g.: to check the temperature during your simulation run:"
   ]
  },
  {
   "cell_type": "code",
   "execution_count": null,
   "id": "5fb159be-38fa-41e3-af71-d400e1cea85e",
   "metadata": {},
   "outputs": [],
   "source": [
    "!xmgrace finalOutput/reports/temp.xvg"
   ]
  },
  {
   "cell_type": "code",
   "execution_count": null,
   "id": "62a53a20",
   "metadata": {},
   "outputs": [],
   "source": [
    "!xmgrace finalOutput/reports/temp2.xvg"
   ]
  },
  {
   "cell_type": "code",
   "execution_count": null,
   "id": "d3a37ab4",
   "metadata": {},
   "outputs": [],
   "source": [
    "!xmgrace finalOutput/reports/rmsd-all-atom-vs-start.xvg"
   ]
  },
  {
   "attachments": {},
   "cell_type": "markdown",
   "id": "7f684784-28da-4513-b240-9b297b3d9fbf",
   "metadata": {},
   "source": [
    "Plot the other properties and RMSD/RMSF in the /reports folder as well (all the other .xvg files), and save them in a file. Note that the properties are seperated into two files, each for a specific part of the simulation. Write a short description for each of the figures. Discuss what you are seeing with your fellow students and/or TAs. Note that you need to close the xmgrace window that opened everytime you want to load a new figure, or you need to add a new code block.\n",
    "\n",
    "Next, we can have a look at the trajectory. Open PyMOL and change to the finalOutput directory. There, you can load a PyMOL script (.pml) generated by PyMemDyn, by typing @load_gpcr.pml\n",
    "\n",
    "- Can you see when the restraints are released in the simulation? \n",
    "- Can you link that to events described in the PyMemDyn and GPCR-ModSim papers?\n",
    "- Do you think the ligand looks stable?\n",
    "- What could you do to further assess ligand stability?\n",
    "- Do we know anything about the binding affinity now?\n",
    "\n",
    "Thanks for participating in this last computerlab, as always please ask your TA any questions if something is unclear!"
   ]
  },
  {
   "cell_type": "code",
   "execution_count": null,
   "id": "5d2edf4d-8e77-465a-9dd2-dedc5288f187",
   "metadata": {},
   "outputs": [],
   "source": []
  }
 ],
 "metadata": {
  "kernelspec": {
   "display_name": "Python 3 (ipykernel)",
   "language": "python",
   "name": "python3"
  },
  "language_info": {
   "codemirror_mode": {
    "name": "ipython",
    "version": 3
   },
   "file_extension": ".py",
   "mimetype": "text/x-python",
   "name": "python",
   "nbconvert_exporter": "python",
   "pygments_lexer": "ipython3",
   "version": "3.9.13"
  }
 },
 "nbformat": 4,
 "nbformat_minor": 5
}
