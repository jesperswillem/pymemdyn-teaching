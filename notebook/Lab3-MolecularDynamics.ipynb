{
 "cells": [
  {
   "cell_type": "code",
   "execution_count": 1,
   "id": "59348d05-aaf7-4c93-b0df-22b5ad8e50c6",
   "metadata": {},
   "outputs": [
    {
     "name": "stdout",
     "output_type": "stream",
     "text": [
      "                         :-) GROMACS - gmx, 2018.6 (-:\n",
      "\n",
      "                            GROMACS is written by:\n",
      "     Emile Apol      Rossen Apostolov      Paul Bauer     Herman J.C. Berendsen\n",
      "    Par Bjelkmar    Aldert van Buuren   Rudi van Drunen     Anton Feenstra  \n",
      "  Gerrit Groenhof    Aleksei Iupinov   Christoph Junghans   Anca Hamuraru   \n",
      " Vincent Hindriksen Dimitrios Karkoulis    Peter Kasson        Jiri Kraus    \n",
      "  Carsten Kutzner      Per Larsson      Justin A. Lemkul    Viveca Lindahl  \n",
      "  Magnus Lundborg   Pieter Meulenhoff    Erik Marklund      Teemu Murtola   \n",
      "    Szilard Pall       Sander Pronk      Roland Schulz     Alexey Shvetsov  \n",
      "   Michael Shirts     Alfons Sijbers     Peter Tieleman    Teemu Virolainen \n",
      " Christian Wennberg    Maarten Wolf   \n",
      "                           and the project leaders:\n",
      "        Mark Abraham, Berk Hess, Erik Lindahl, and David van der Spoel\n",
      "\n",
      "Copyright (c) 1991-2000, University of Groningen, The Netherlands.\n",
      "Copyright (c) 2001-2017, The GROMACS development team at\n",
      "Uppsala University, Stockholm University and\n",
      "the Royal Institute of Technology, Sweden.\n",
      "check out http://www.gromacs.org for more information.\n",
      "\n",
      "GROMACS is free software; you can redistribute it and/or modify it\n",
      "under the terms of the GNU Lesser General Public License\n",
      "as published by the Free Software Foundation; either version 2.1\n",
      "of the License, or (at your option) any later version.\n",
      "\n",
      "GROMACS:      gmx, version 2018.6\n",
      "Executable:   /home/willem/miniconda3/envs/pymemdyn/bin/gmx\n",
      "Data prefix:  /home/willem/miniconda3/envs/pymemdyn\n",
      "Working dir:  /home/willem/pymemdyn-teaching/notebook\n",
      "Command line:\n",
      "  gmx\n",
      "\n",
      "SYNOPSIS\n",
      "\n",
      "gmx [-[no]h] [-[no]quiet] [-[no]version] [-[no]copyright] [-nice <int>]\n",
      "    [-[no]backup]\n",
      "\n",
      "OPTIONS\n",
      "\n",
      "Other options:\n",
      "\n",
      " -[no]h                     (no)\n",
      "           Print help and quit\n",
      " -[no]quiet                 (no)\n",
      "           Do not print common startup info or quotes\n",
      " -[no]version               (no)\n",
      "           Print extended version information and quit\n",
      " -[no]copyright             (yes)\n",
      "           Print copyright information on startup\n",
      " -nice   <int>              (19)\n",
      "           Set the nicelevel (default depends on command)\n",
      " -[no]backup                (yes)\n",
      "           Write backups if output files exist\n",
      "\n",
      "Additional help is available on the following topics:\n",
      "    commands    List of available commands\n",
      "    selections  Selection syntax and usage\n",
      "To access the help, use 'gmx help <topic>'.\n",
      "For help on a command, use 'gmx help <command>'.\n",
      "\n",
      "GROMACS reminds you: \"Live for Liposuction\" (Robbie Williams)\n",
      "\n"
     ]
    }
   ],
   "source": [
    "!gmx"
   ]
  },
  {
   "cell_type": "code",
   "execution_count": null,
   "id": "2bc0d313-f553-4d4f-82a0-39bf722fa4d1",
   "metadata": {},
   "outputs": [],
   "source": []
  }
 ],
 "metadata": {
  "kernelspec": {
   "display_name": "Python 3 (ipykernel)",
   "language": "python",
   "name": "python3"
  },
  "language_info": {
   "codemirror_mode": {
    "name": "ipython",
    "version": 3
   },
   "file_extension": ".py",
   "mimetype": "text/x-python",
   "name": "python",
   "nbconvert_exporter": "python",
   "pygments_lexer": "ipython3",
   "version": "3.10.4"
  }
 },
 "nbformat": 4,
 "nbformat_minor": 5
}
