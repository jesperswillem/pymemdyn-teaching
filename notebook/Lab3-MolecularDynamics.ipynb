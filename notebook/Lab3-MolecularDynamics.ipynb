{
 "cells": [
  {
   "cell_type": "code",
   "execution_count": 1,
   "id": "59348d05-aaf7-4c93-b0df-22b5ad8e50c6",
   "metadata": {},
   "outputs": [
    {
     "name": "stdout",
     "output_type": "stream",
     "text": [
      "Object `queue` not found.\n"
     ]
    }
   ],
   "source": [
    "#!/usr/bin/env python3.7\n",
    "import argparse\n",
    "import os\n",
    "import shutil\n",
    "import sys\n",
    "\n",
    "# Add PyMemDyn modules\n",
    "sys.path.insert(0, '../')\n",
    "\n",
    "import complex\n",
    "import gromacs\n",
    "import membrane\n",
    "import protein\n",
    "import pymemqueue\n",
    "import settings\n",
    "from pymemdyn import Run\n",
    "?queue"
   ]
  },
  {
   "cell_type": "code",
   "execution_count": 2,
   "id": "2bc0d313-f553-4d4f-82a0-39bf722fa4d1",
   "metadata": {},
   "outputs": [],
   "source": [
    "run = Run(own_dir = os.getcwd(),\n",
    "          repo_dir = settings.TEMPLATES_DIR,\n",
    "          pdb = 'protein.pdb',\n",
    "          ligand = 'E3R',\n",
    "          alosteric = None,\n",
    "          waters = None,\n",
    "          ions = None,\n",
    "          cho = None,\n",
    "          ligpargen = 'l',\n",
    "          library = None,\n",
    "          restraint = 'bw',\n",
    "          queue = \"\",\n",
    "          debug = False\n",
    ")"
   ]
  },
  {
   "cell_type": "code",
   "execution_count": null,
   "id": "2d524439-5f3b-4e18-87d9-718f44e35d45",
   "metadata": {},
   "outputs": [],
   "source": []
  }
 ],
 "metadata": {
  "kernelspec": {
   "display_name": "Python 3 (ipykernel)",
   "language": "python",
   "name": "python3"
  },
  "language_info": {
   "codemirror_mode": {
    "name": "ipython",
    "version": 3
   },
   "file_extension": ".py",
   "mimetype": "text/x-python",
   "name": "python",
   "nbconvert_exporter": "python",
   "pygments_lexer": "ipython3",
   "version": "3.10.4"
  }
 },
 "nbformat": 4,
 "nbformat_minor": 5
}
