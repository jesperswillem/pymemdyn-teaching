{
 "cells": [
  {
   "cell_type": "markdown",
   "id": "3790f1b6-5fe1-406b-87eb-32475c89e33a",
   "metadata": {},
   "source": [
    "## Lab3 Molecular Dynamics\n",
    "\n",
    "In this lab, we will prepare and run the necessary steps to perform MD simulations of the cannabinoid 2 receptor. We use the crystal structure 6kpf (https://www.rcsb.org/structure/6KPF) as a starting point.\n",
    "\n",
    "The lab includes a series of steps to interact with the GROMACS program, as well as with a few python script included in the python package PyMemDyn. Normally, these steps are all run at once, but here we try to run them individually to better understand which steps are needed to succesfully run MD on a membrane protein.\n",
    "\n",
    "I reccomend to read up on pymemdyn and related webserver here:\n",
    "https://portlandpress.com/biochemsoctrans/article-abstract/41/1/205/68208/Characterization-of-the-dynamic-events-of-GPCRs-by\n",
    "and\n",
    "https://academic.oup.com/nar/article/44/W1/W455/2499371?login=true\n",
    "\n",
    "We have pregenerated the ligand parameters using LigParGen:\n",
    "http://zarbi.chem.yale.edu/ligpargen/\n",
    "\n",
    "Below, you will find the relevant code blocks that you can execute by using the play button on top, or by typing shft+enter.\n",
    "\n",
    "If you want to know more about what the code is doing, please ask one of the teachers!"
   ]
  },
  {
   "cell_type": "code",
   "execution_count": 1,
   "id": "59348d05-aaf7-4c93-b0df-22b5ad8e50c6",
   "metadata": {},
   "outputs": [],
   "source": [
    "#!/usr/bin/env python3.7\n",
    "# Import python native functions\n",
    "import argparse\n",
    "import os\n",
    "import shutil\n",
    "import sys\n",
    "\n",
    "# Add PyMemDyn modules\n",
    "sys.path.insert(0, '../')\n",
    "\n",
    "import complex\n",
    "import gromacs\n",
    "import membrane\n",
    "import protein\n",
    "import pymemqueue\n",
    "import settings\n",
    "import recipes\n",
    "from pymemdyn import Run"
   ]
  },
  {
   "cell_type": "code",
   "execution_count": 2,
   "id": "074f99e2-b759-48ad-87f0-c3463d084df8",
   "metadata": {},
   "outputs": [],
   "source": [
    "!cp data/clean/* rundir/"
   ]
  },
  {
   "cell_type": "code",
   "execution_count": 3,
   "id": "2bc0d313-f553-4d4f-82a0-39bf722fa4d1",
   "metadata": {},
   "outputs": [
    {
     "data": {
      "text/plain": [
       "True"
      ]
     },
     "execution_count": 3,
     "metadata": {},
     "output_type": "execute_result"
    }
   ],
   "source": [
    "# First, we instantiate the run class of pymemdyn, this top level object takes run time variables\n",
    "# and stores them in an object so we can use them in the next steps\n",
    "os.chdir('rundir')\n",
    "run = Run(own_dir = os.getcwd(),\n",
    "          repo_dir = settings.TEMPLATES_DIR,\n",
    "          pdb = 'protein.pdb',\n",
    "          ligand = 'E3R',\n",
    "          alosteric = None,\n",
    "          waters = None,\n",
    "          ions = None,\n",
    "          cho = None,\n",
    "          ligpargen = 'l',\n",
    "          library = None,\n",
    "          restraint = 'bw',\n",
    "          queue = \"\",\n",
    "          debug = True\n",
    ")\n",
    "# Clean up old files\n",
    "run.clean()"
   ]
  },
  {
   "cell_type": "markdown",
   "id": "915b4738-8642-433c-aafd-bb18695ce5dc",
   "metadata": {
    "tags": []
   },
   "source": [
    "This command returns a list of each of the steps run by the program pymemdyn.\n",
    "We will use these keywords in the next command block to run the individual steps\n",
    "in the program.\n",
    "Note that pymemdyn can also run everything in one go (this was the intention of the \n",
    "program), but for teaching purposes it makes more sense to carefully look at each individual step."
   ]
  },
  {
   "cell_type": "code",
   "execution_count": 4,
   "id": "059c6c54-9809-441f-9d0c-142d3b4fa955",
   "metadata": {},
   "outputs": [
    {
     "name": "stdout",
     "output_type": "stream",
     "text": [
      "pdb2gmx\n",
      "set_itp\n",
      "concat\n",
      "editconf\n",
      "set_protein_size\n",
      "editconf2\n",
      "set_protein_size2\n",
      "set_popc\n",
      "editconf3\n",
      "make_ndx_lig\n",
      "genrestr_lig\n",
      "editconf4\n",
      "make_topol\n",
      "editconf5\n",
      "solvate\n",
      "set_water\n",
      "editconf6\n",
      "editconf7\n",
      "solvate2\n",
      "count_lipids\n",
      "make_topol2\n",
      "make_topol_lipids\n",
      "make_ffoplsaanb\n",
      "set_grompp\n",
      "set_chains\n",
      "make_ndx\n",
      "grompp\n",
      "trjconv\n",
      "get_charge\n",
      "genion\n",
      "grompp2\n",
      "trjconv2\n",
      "grompp3\n",
      "trjconv3\n",
      "clean_pdb\n"
     ]
    }
   ],
   "source": [
    "run.moldyn_notebook_info()"
   ]
  },
  {
   "cell_type": "markdown",
   "id": "650e5a69-9476-42de-8624-dffdddf00c91",
   "metadata": {},
   "source": [
    "You can use the code block below to run each of the commands individually, there will be a short description of each of the\n",
    "steps printed out. The first step (pdb2gmx) has already been filled in so you know what input to use. Some commands are running via GROMACS (indicated in the header) other commands are actual python\n",
    "scripts part of the pymemdyn package.\n",
    "\n",
    "Sometimes the help function mentions a filetype (.top or .itp for instance) if you don't know what these files are\n",
    "you can find more information here:\n",
    "https://manual.gromacs.org/documentation/5.1.1/user-guide/file-formats.html"
   ]
  },
  {
   "cell_type": "code",
   "execution_count": 30,
   "id": "560f0a69-d87e-41d7-a787-1ed7be794d5f",
   "metadata": {},
   "outputs": [
    {
     "name": "stdout",
     "output_type": "stream",
     "text": [
      "LigandInit : set_grompp.\n",
      "Running the following command\n",
      "{'command': 'set_grompp', 'options': {'steep.mdp': 'steepDEBUG.mdp', 'popc.itp': 'popc.itp', 'spc.itp': 'spc.itp', 'ions.itp': 'ions.itp', 'ffoplsaabon_mod.itp': 'ffoplsaabon_mod.itp', 'ffoplsaa_mod.itp': 'ffoplsaa_mod.itp'}}\n",
      "\n",
      "========================INFO============================\n",
      "\n",
      "TEST\n",
      "\n",
      "========================INFO END========================\n",
      "\n"
     ]
    },
    {
     "ename": "FileNotFoundError",
     "evalue": "[Errno 2] No such file or directory: '/home/willem/pymemdyn-teaching/templates/steepDEBUG.mdp'",
     "output_type": "error",
     "traceback": [
      "\u001b[0;31m---------------------------------------------------------------------------\u001b[0m",
      "\u001b[0;31mFileNotFoundError\u001b[0m                         Traceback (most recent call last)",
      "Input \u001b[0;32mIn [30]\u001b[0m, in \u001b[0;36m<cell line: 1>\u001b[0;34m()\u001b[0m\n\u001b[0;32m----> 1\u001b[0m \u001b[43mrun\u001b[49m\u001b[38;5;241;43m.\u001b[39;49m\u001b[43mmoldyn_notebook_run\u001b[49m\u001b[43m(\u001b[49m\u001b[38;5;124;43m\"\u001b[39;49m\u001b[38;5;124;43mset_grompp\u001b[39;49m\u001b[38;5;124;43m\"\u001b[39;49m\u001b[43m)\u001b[49m\n",
      "File \u001b[0;32m~/pymemdyn-teaching/notebook/../pymemdyn.py:171\u001b[0m, in \u001b[0;36mRun.moldyn_notebook_run\u001b[0;34m(self, command_name, stage)\u001b[0m\n\u001b[1;32m    170\u001b[0m \u001b[38;5;28;01mdef\u001b[39;00m \u001b[38;5;21mmoldyn_notebook_run\u001b[39m(\u001b[38;5;28mself\u001b[39m, command_name, stage\u001b[38;5;241m=\u001b[39m\u001b[38;5;124m\"\u001b[39m\u001b[38;5;124mInit\u001b[39m\u001b[38;5;124m\"\u001b[39m):\n\u001b[0;32m--> 171\u001b[0m     \u001b[38;5;28;43mself\u001b[39;49m\u001b[38;5;241;43m.\u001b[39;49m\u001b[43mg\u001b[49m\u001b[38;5;241;43m.\u001b[39;49m\u001b[43mrun_recipe_notebook\u001b[49m\u001b[43m(\u001b[49m\u001b[43mcommand_name\u001b[49m\u001b[43m)\u001b[49m\n",
      "File \u001b[0;32m~/pymemdyn-teaching/notebook/../gromacs.py:393\u001b[0m, in \u001b[0;36mGromacs.run_recipe_notebook\u001b[0;34m(self, command_name)\u001b[0m\n\u001b[1;32m    390\u001b[0m     f \u001b[38;5;241m=\u001b[39m \u001b[38;5;28mgetattr\u001b[39m(utils, command[\u001b[38;5;124m\"\u001b[39m\u001b[38;5;124mcommand\u001b[39m\u001b[38;5;124m\"\u001b[39m])\n\u001b[1;32m    392\u001b[0m \u001b[38;5;28;01mif\u001b[39;00m (\u001b[38;5;124m\"\u001b[39m\u001b[38;5;124moptions\u001b[39m\u001b[38;5;124m\"\u001b[39m) \u001b[38;5;129;01min\u001b[39;00m command:\n\u001b[0;32m--> 393\u001b[0m     \u001b[43mf\u001b[49m\u001b[43m(\u001b[49m\u001b[38;5;241;43m*\u001b[39;49m\u001b[38;5;241;43m*\u001b[39;49m\u001b[43mcommand\u001b[49m\u001b[43m[\u001b[49m\u001b[38;5;124;43m\"\u001b[39;49m\u001b[38;5;124;43moptions\u001b[39;49m\u001b[38;5;124;43m\"\u001b[39;49m\u001b[43m]\u001b[49m\u001b[43m)\u001b[49m\n\u001b[1;32m    394\u001b[0m \u001b[38;5;28;01melse\u001b[39;00m:\n\u001b[1;32m    395\u001b[0m     f()\n",
      "File \u001b[0;32m~/pymemdyn-teaching/notebook/../gromacs.py:480\u001b[0m, in \u001b[0;36mGromacs.set_grompp\u001b[0;34m(self, **kwargs)\u001b[0m\n\u001b[1;32m    476\u001b[0m \u001b[38;5;124;03m\"\"\"\u001b[39;00m\n\u001b[1;32m    477\u001b[0m \u001b[38;5;124;03mset_grompp: Copy template files to working dir\u001b[39;00m\n\u001b[1;32m    478\u001b[0m \u001b[38;5;124;03m\"\"\"\u001b[39;00m\n\u001b[1;32m    479\u001b[0m \u001b[38;5;28;01mfor\u001b[39;00m repo_src \u001b[38;5;129;01min\u001b[39;00m kwargs\u001b[38;5;241m.\u001b[39mkeys():\n\u001b[0;32m--> 480\u001b[0m     \u001b[43mshutil\u001b[49m\u001b[38;5;241;43m.\u001b[39;49m\u001b[43mcopy\u001b[49m\u001b[43m(\u001b[49m\u001b[43mos\u001b[49m\u001b[38;5;241;43m.\u001b[39;49m\u001b[43mpath\u001b[49m\u001b[38;5;241;43m.\u001b[39;49m\u001b[43mjoin\u001b[49m\u001b[43m(\u001b[49m\n\u001b[1;32m    481\u001b[0m \u001b[43m        \u001b[49m\u001b[38;5;28;43mself\u001b[39;49m\u001b[38;5;241;43m.\u001b[39;49m\u001b[43mrepo_dir\u001b[49m\u001b[43m,\u001b[49m\u001b[43m \u001b[49m\u001b[43mkwargs\u001b[49m\u001b[43m[\u001b[49m\u001b[43mrepo_src\u001b[49m\u001b[43m]\u001b[49m\u001b[43m)\u001b[49m\u001b[43m,\u001b[49m\n\u001b[1;32m    482\u001b[0m \u001b[43m        \u001b[49m\u001b[43mrepo_src\u001b[49m\u001b[43m)\u001b[49m\n\u001b[1;32m    484\u001b[0m \u001b[38;5;28;01mreturn\u001b[39;00m \u001b[38;5;28;01mTrue\u001b[39;00m\n",
      "File \u001b[0;32m~/miniconda3/envs/pymemdyn/lib/python3.10/shutil.py:417\u001b[0m, in \u001b[0;36mcopy\u001b[0;34m(src, dst, follow_symlinks)\u001b[0m\n\u001b[1;32m    415\u001b[0m \u001b[38;5;28;01mif\u001b[39;00m os\u001b[38;5;241m.\u001b[39mpath\u001b[38;5;241m.\u001b[39misdir(dst):\n\u001b[1;32m    416\u001b[0m     dst \u001b[38;5;241m=\u001b[39m os\u001b[38;5;241m.\u001b[39mpath\u001b[38;5;241m.\u001b[39mjoin(dst, os\u001b[38;5;241m.\u001b[39mpath\u001b[38;5;241m.\u001b[39mbasename(src))\n\u001b[0;32m--> 417\u001b[0m \u001b[43mcopyfile\u001b[49m\u001b[43m(\u001b[49m\u001b[43msrc\u001b[49m\u001b[43m,\u001b[49m\u001b[43m \u001b[49m\u001b[43mdst\u001b[49m\u001b[43m,\u001b[49m\u001b[43m \u001b[49m\u001b[43mfollow_symlinks\u001b[49m\u001b[38;5;241;43m=\u001b[39;49m\u001b[43mfollow_symlinks\u001b[49m\u001b[43m)\u001b[49m\n\u001b[1;32m    418\u001b[0m copymode(src, dst, follow_symlinks\u001b[38;5;241m=\u001b[39mfollow_symlinks)\n\u001b[1;32m    419\u001b[0m \u001b[38;5;28;01mreturn\u001b[39;00m dst\n",
      "File \u001b[0;32m~/miniconda3/envs/pymemdyn/lib/python3.10/shutil.py:254\u001b[0m, in \u001b[0;36mcopyfile\u001b[0;34m(src, dst, follow_symlinks)\u001b[0m\n\u001b[1;32m    252\u001b[0m     os\u001b[38;5;241m.\u001b[39msymlink(os\u001b[38;5;241m.\u001b[39mreadlink(src), dst)\n\u001b[1;32m    253\u001b[0m \u001b[38;5;28;01melse\u001b[39;00m:\n\u001b[0;32m--> 254\u001b[0m     \u001b[38;5;28;01mwith\u001b[39;00m \u001b[38;5;28;43mopen\u001b[39;49m\u001b[43m(\u001b[49m\u001b[43msrc\u001b[49m\u001b[43m,\u001b[49m\u001b[43m \u001b[49m\u001b[38;5;124;43m'\u001b[39;49m\u001b[38;5;124;43mrb\u001b[39;49m\u001b[38;5;124;43m'\u001b[39;49m\u001b[43m)\u001b[49m \u001b[38;5;28;01mas\u001b[39;00m fsrc:\n\u001b[1;32m    255\u001b[0m         \u001b[38;5;28;01mtry\u001b[39;00m:\n\u001b[1;32m    256\u001b[0m             \u001b[38;5;28;01mwith\u001b[39;00m \u001b[38;5;28mopen\u001b[39m(dst, \u001b[38;5;124m'\u001b[39m\u001b[38;5;124mwb\u001b[39m\u001b[38;5;124m'\u001b[39m) \u001b[38;5;28;01mas\u001b[39;00m fdst:\n\u001b[1;32m    257\u001b[0m                 \u001b[38;5;66;03m# macOS\u001b[39;00m\n",
      "\u001b[0;31mFileNotFoundError\u001b[0m: [Errno 2] No such file or directory: '/home/willem/pymemdyn-teaching/templates/steepDEBUG.mdp'"
     ]
    }
   ],
   "source": [
    "run.moldyn_notebook_run(\"set_grompp\")"
   ]
  },
  {
   "cell_type": "code",
   "execution_count": 8,
   "id": "bcdde28b-8744-4d1a-97d5-f4d5e8e54ef9",
   "metadata": {},
   "outputs": [],
   "source": [
    "# Ater you have completed all steps above, you would normally start running the MD simulation. However it takes a few hours to complete,\n",
    "# so we have already done it for you.\n",
    "# The output from a PyMemDyn run can be found in the finalOutput folder, which we copy in here now\n",
    "\n",
    "!cp -r ../data/finalOutput .\n",
    "\n",
    "# Note, it takes a bit of time before all files are transferred."
   ]
  },
  {
   "cell_type": "code",
   "execution_count": 9,
   "id": "78b8d52d-74e8-4408-8c6f-e99b8da8a118",
   "metadata": {},
   "outputs": [
    {
     "name": "stdout",
     "output_type": "stream",
     "text": [
      "/home/willem/pymemdyn-teaching/notebook/rundir\n"
     ]
    }
   ],
   "source": [
    "!pwd"
   ]
  },
  {
   "cell_type": "code",
   "execution_count": null,
   "id": "c95e85f1-c1ce-4ac1-be93-2880fb86288b",
   "metadata": {},
   "outputs": [],
   "source": []
  }
 ],
 "metadata": {
  "kernelspec": {
   "display_name": "Python 3 (ipykernel)",
   "language": "python",
   "name": "python3"
  },
  "language_info": {
   "codemirror_mode": {
    "name": "ipython",
    "version": 3
   },
   "file_extension": ".py",
   "mimetype": "text/x-python",
   "name": "python",
   "nbconvert_exporter": "python",
   "pygments_lexer": "ipython3",
   "version": "3.10.4"
  }
 },
 "nbformat": 4,
 "nbformat_minor": 5
}
